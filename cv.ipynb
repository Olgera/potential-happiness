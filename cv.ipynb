{
  "cells": [
    {
      "cell_type": "markdown",
      "metadata": {
        "id": "DUQrE8gYGFB-"
      },
      "source": [
        "\n",
        "Цель работы - решение задач компьютерного зрения в системах управления с использованием предобученных моделей сверточных нейронных сетей из библиотеки PyTorch.\n",
        "\n",
        "Преимущество предобученных моделей - получение быстрого результата без погружения в детали реализации и выполнения трудоемкого процесса настройки на крупных библиотеках изображений.\n",
        "\n",
        "Их недостатки - возможны ограничения лицензий использования как на использованный при обучении набор данных, так и на сами коэффициенты из библиотеки и исходный код модели. Ещё одним недостатком является то, что такие весовые коэффицпенты расчитываются на публичных библиотеках изображений и зачастую могут оказаться нерелеванты решаемой задаче.\n",
        "\n",
        "Последнюю проблему обычно решают с помощью набора приемов, известных в англоязычной литературе как \"Transfer learning\". Суть его состоит в использовании библиотечных коэффициентов и модели как базы для настройки новой модели.\n",
        "\n",
        "Ниже будет проиллюстрировано решение задач классификации и донастройки модели с использованием библиотеки PyTorch.\n",
        "В заданном варианте в качестве датасета используются изображения ротора турбины и коробки передач."
      ]
    },
    {
      "cell_type": "markdown",
      "metadata": {
        "id": "KL4ZDOelJ4nX"
      },
      "source": [
        "## 1. Инициализация преднастроенных нейросетевых моделей"
      ]
    },
    {
      "cell_type": "markdown",
      "metadata": {
        "id": "IkCK_Qki_ld6"
      },
      "source": [
        "Для 5 предобученных моделей (AlexNet, DenseNet, MobileNet, ResNet50, SwinT) провести сравнение процесса классификации на собранном датасете."
      ]
    },
    {
      "cell_type": "code",
      "execution_count": null,
      "metadata": {
        "id": "irPHh0k7veqg"
      },
      "outputs": [],
      "source": [
        "from torchvision import models\n",
        "\n",
        "alexNet = {\n",
        "    # https://papers.nips.cc/paper/2012/hash/c399862d3b9d6b76c8436e924a68c45b-Abstract.html\n",
        "    'model': models.alexnet(weights=models.AlexNet_Weights.DEFAULT),\n",
        "    'weights': models.AlexNet_Weights.DEFAULT,\n",
        "    'preprocess': models.AlexNet_Weights.DEFAULT.transforms(),\n",
        "    'output_layer': 'classifier',\n",
        "    'in_features': lambda model: model.classifier[1].in_features\n",
        "}\n",
        "\n",
        "resNet50 = {\n",
        "    # https://arxiv.org/abs/1512.03385\n",
        "    'model': models.resnet50(weights=models.ResNet50_Weights.DEFAULT),\n",
        "    'weights': models.ResNet50_Weights.DEFAULT,\n",
        "    'preprocess': models.ResNet50_Weights.DEFAULT.transforms(),\n",
        "    'output_layer': 'fc',\n",
        "    'in_features': lambda model: model.fc.in_features\n",
        "}\n",
        "\n",
        "denseNet = {\n",
        "    # https://arxiv.org/abs/1608.06993\n",
        "    'model': models.densenet201(weights=models.DenseNet201_Weights.DEFAULT),\n",
        "    'weights': models.DenseNet201_Weights.DEFAULT,\n",
        "    'preprocess': models.DenseNet201_Weights.DEFAULT.transforms(),\n",
        "    'output_layer': 'classifier',\n",
        "    'in_features': lambda model: model.classifier[0].in_features\n",
        "}\n",
        "\n",
        "mobileNetV3_small = {\n",
        "    # https://arxiv.org/abs/1905.02244\n",
        "    'model': models.mobilenet_v3_small(weights=models.mobilenetv3.MobileNet_V3_Small_Weights.DEFAULT),\n",
        "    'weights': models.mobilenetv3.MobileNet_V3_Small_Weights.DEFAULT,\n",
        "    'preprocess': models.mobilenetv3.MobileNet_V3_Small_Weights.DEFAULT.transforms(),\n",
        "    'output_layer': 'classifier',\n",
        "    'in_features': lambda model: model.classifier[0].in_features\n",
        "}\n",
        "\n",
        "swinT = {\n",
        "    # https://arxiv.org/abs/2103.14030\n",
        "    'model': models.swin_t(weights=models.Swin_T_Weights.IMAGENET1K_V1.DEFAULT),\n",
        "    'weights': models.Swin_T_Weights.IMAGENET1K_V1.DEFAULT,\n",
        "    'preprocess': models.Swin_T_Weights.IMAGENET1K_V1.DEFAULT.transforms(),\n",
        "    'output_layer': 'head',\n",
        "    'in_features': lambda model: model.head.in_features\n",
        "}\n",
        "\n"
      ]
    },
    {
      "cell_type": "markdown",
      "metadata": {
        "id": "LukqUR1JpB4V"
      },
      "source": [
        "Далее необходимо определиться с вычислительной подсистемой (CPU или GPU)."
      ]
    },
    {
      "cell_type": "code",
      "execution_count": null,
      "metadata": {
        "id": "fyu6Z_BtEF7_"
      },
      "outputs": [],
      "source": [
        "import torch\n",
        "\n",
        "gpu = 'has' if torch.cuda.is_available() else 'has no'\n",
        "print(f'Current environment {gpu} GPU support')\n",
        "device = torch.device(\"cuda:0\" if torch.cuda.is_available() else \"cpu\")\n",
        "!lscpu\n",
        "print(f'GPU count = {torch.cuda.device_count() if torch.cuda.is_available() else \"0\"}')\n",
        "\n",
        "for model in [resNet50, alexNet, denseNet, mobileNetV3_small, swinT]:\n",
        "    model['model'].to(device)\n",
        "    model['preprocess'].to(device)\n",
        "    model['model'].eval()"
      ]
    },
    {
      "cell_type": "markdown",
      "metadata": {
        "id": "Qsl5cm0zMvGP"
      },
      "source": [
        "## Вспомогательные функции"
      ]
    },
    {
      "cell_type": "code",
      "execution_count": null,
      "metadata": {
        "id": "RAoWValPxlLl"
      },
      "outputs": [],
      "source": [
        "import os\n",
        "import time\n",
        "import copy\n",
        "import math\n",
        "\n",
        "import typing\n",
        "from typing import Callable\n",
        "from functools import partial\n",
        "\n",
        "import numpy\n",
        "import pandas\n",
        "from pandas.core.arrays import boolean\n",
        "import matplotlib.pyplot as plt\n",
        "from requests import get\n",
        "\n",
        "from torch import Tensor, nn\n",
        "from torch.utils.data import DataLoader, Dataset\n",
        "from torchvision.transforms import ToPILImage, Compose, Resize, CenterCrop\n",
        "from torchvision.io import read_image\n",
        "from torchvision.io import ImageReadMode\n",
        "\n",
        "\n",
        "strip_chars = ' \\t'\n",
        "tmp_file_name = 'tmp_file_name_for_image_download'\n",
        "\n",
        "to_image = ToPILImage()\n",
        "\n",
        "\n",
        "def classify(dataset: Dataset,\n",
        "                preprocess: typing.Callable[[Tensor],Tensor],\n",
        "                num_per_row: int, single_size: float,\n",
        "                labels: typing.List[str],\n",
        "                model_labels: typing.List[str] = None,\n",
        "                model: typing.Callable[[Tensor], Tensor] = None,\n",
        "                debug: typing.Any = False,\n",
        "                num_of_classes: int = 1,\n",
        "                vspace: float = 0.3\n",
        "             ) -> None:\n",
        "    num = len(dataset)\n",
        "    fig, axs = plt.subplots(math.ceil(num/num_per_row), num_per_row, figsize=(\n",
        "        single_size*num_per_row, (single_size + vspace)*(math.ceil(num/num_per_row))),\n",
        "        sharex=True, sharey=True)\n",
        "    average = 0\n",
        "    for i in range(0, len(dataset)):\n",
        "        try:\n",
        "            image, label = dataset[i]\n",
        "            pred = None\n",
        "\n",
        "            if model is not None and model_labels is not None:\n",
        "                start_time = time.perf_counter_ns()\n",
        "                score = model(image.unsqueeze(0)).detach().squeeze(0).softmax(0)\n",
        "                pred_index = numpy.flip(score.detach().cpu().argsort().numpy())[0]\n",
        "                end_time = time.perf_counter_ns()\n",
        "                average += (end_time - start_time) / 1000000\n",
        "                pred = f'Detector: {(end_time - start_time) / 1_000_000:.0f}ms\\n{model_labels[pred_index]}[{score[pred_index].item()*100:.0f}%]'\n",
        "\n",
        "            loc_fig = axs[i//num_per_row, i % num_per_row]\n",
        "            loc_fig.imshow(to_image(preprocess(image)))\n",
        "            title =f'\\nActual: {labels[label]}[{label}]\\n{pred}'\n",
        "            loc_fig.title.set_text(title)\n",
        "        except Exception as ex:\n",
        "            if debug:\n",
        "                raise ex\n",
        "            print(f'Image {i} is failed to load: {str(ex)}')\n",
        "    print('-' * 7)\n",
        "    print('average: ' + str(average/len(dataset)) + ' s')\n",
        "    print('-' * 7)\n",
        "    fig.subplots_adjust(wspace=0.3)\n",
        "    plt.show()\n",
        "\n",
        "\n",
        "def denormalize(dataset: Dataset, trans: typing.Any) -> Callable[[Tensor], Tensor]:\n",
        "    image, label = dataset[0]\n",
        "    std = torch.as_tensor(trans.std, dtype=image.dtype, device=image.device).view(-1, 1, 1)\n",
        "    mean = torch.as_tensor(trans.mean, dtype=image.dtype, device=image.device).view(-1, 1, 1)\n",
        "    return lambda img: img*std + mean\n",
        "\n",
        "\n",
        "class UrlDataset(Dataset):\n",
        "\n",
        "    def __init__(self, file: str, to_device, transform = None) -> None:\n",
        "        self.file = file\n",
        "        self.transform = transform\n",
        "        self.dataset = pandas.read_csv(file, sep=';')\n",
        "        self.classes = self.dataset['label'].unique()\n",
        "        self.classes.sort()\n",
        "        self.class_to_index = {self.classes[i] : i for i in range(len(self.classes))}\n",
        "        self.device = to_device\n",
        "\n",
        "    def __len__(self) -> int:\n",
        "        return len(self.dataset)\n",
        "\n",
        "    def __getitem__(self, index: int) -> typing.Tuple[torch.Tensor, str]:\n",
        "        url = self.dataset.iloc[index]['url'].strip(strip_chars)\n",
        "        with open(tmp_file_name, 'wb') as file:\n",
        "            file.write(get(url).content)\n",
        "        image = read_image(tmp_file_name, ImageReadMode.RGB).to(self.device)\n",
        "        label = self.class_to_index[self.dataset.iloc[index]['label']]\n",
        "        if self.transform:\n",
        "            return self.transform(image), label\n",
        "        return image, label\n",
        "\n",
        "\n",
        "def train_model(model, dataloader: DataLoader, device: torch.device,\n",
        "                critery, optimizer, scheduler, num_epochs=25):\n",
        "    since = time.time()\n",
        "\n",
        "    best_model_wts = copy.deepcopy(model.state_dict())\n",
        "    best_loss = 0.0\n",
        "    best_epoch = -1\n",
        "\n",
        "    process = {'train': {'loss': [], 'accuracy': []}, 'validate': {'loss': [], 'accuracy': []}}\n",
        "\n",
        "    for epoch in range(num_epochs):\n",
        "        print(f'Epoch {epoch}/{num_epochs - 1}')\n",
        "        print('-' * 10)\n",
        "        epoch_loss = 0.0\n",
        "        epoch_acc = 0.0\n",
        "        for item in dataloader:\n",
        "            if item['train'] == True:\n",
        "                model.train()\n",
        "            else:\n",
        "                model.eval()\n",
        "            running_loss = 0.0\n",
        "            running_corrects = 0\n",
        "            dataset_size = 0\n",
        "            for inputs, labels in item['loader']:\n",
        "                dataset_size = dataset_size + 1\n",
        "                inputs = inputs.to(device)\n",
        "                labels = labels.to(device)\n",
        "                optimizer.zero_grad()\n",
        "                with torch.set_grad_enabled(item['train'] == True):\n",
        "                    outputs = model(inputs)\n",
        "                    _, preds = torch.max(outputs, 1)\n",
        "                    loss = critery(outputs, labels)\n",
        "                    if item['train'] == True:\n",
        "                        loss.backward()\n",
        "                        optimizer.step()\n",
        "                running_loss += loss.item() * inputs.size(0)\n",
        "                running_corrects += torch.sum(preds == labels.data)\n",
        "            if item['train'] == True:\n",
        "                scheduler.step()\n",
        "\n",
        "            epoch_loss = running_loss / dataset_size\n",
        "            epoch_acc = running_corrects.detach().cpu().double() / dataset_size\n",
        "\n",
        "            if item['train'] == True:\n",
        "                ptype = 'train'\n",
        "            else:\n",
        "                ptype = 'validate'\n",
        "\n",
        "            process[ptype]['loss'].append(epoch_loss)\n",
        "            process[ptype]['accuracy'].append(epoch_acc)\n",
        "\n",
        "            print(f'[{epoch}][train={item[\"train\"]}] Loss: {epoch_loss:.4f} Acc: {epoch_acc:.4f}')\n",
        "\n",
        "            # deep copy the model\n",
        "            if item['train'] == True and 1/epoch_loss > best_loss:\n",
        "                best_loss = 1/epoch_loss\n",
        "                best_model_wts = copy.deepcopy(model.state_dict())\n",
        "                best_epoch = epoch\n",
        "\n",
        "        print()\n",
        "\n",
        "    time_elapsed = time.time() - since\n",
        "    print(f'Training complete in {time_elapsed // 60:.0f}m {time_elapsed % 60:.0f}s')\n",
        "    print(f'Best val loss: {1/best_loss:4f} at epoch {best_epoch}')\n",
        "\n",
        "    # load best model weights\n",
        "    model.load_state_dict(best_model_wts)\n",
        "    return model, process\n"
      ]
    },
    {
      "cell_type": "markdown",
      "metadata": {
        "id": "b-sGxkZqM7Md"
      },
      "source": [
        "## Пример описания данных для классификации\n",
        "\n",
        "Подготовим датасет, состоящий из 50 изображений ротор турбины и 50 изображений коробки передач. набор данных (датасет) формализуется в виде CSV-файла, содержащего URL изображения из интернета и вручную назначенных меток объектов (названий классов), к которому каждое изображение относится."
      ]
    },
    {
      "cell_type": "code",
      "execution_count": null,
      "metadata": {
        "id": "j_DCl2a5zogu"
      },
      "outputs": [],
      "source": [
        "%%writefile simple.csv\n",
        "label;url\n",
        "коробка передач;https://github.com/Olgera/potential-happiness/blob/master/%D0%BA%D0%BE%D1%80%D0%BE%D0%B1%D0%BA%D0%B0%20%D0%BF%D0%B5%D1%80%D0%B5%D0%B4%D0%B0%D1%87/test/test.csv_image_1?raw=true\n",
        "коробка передач;https://github.com/Olgera/potential-happiness/blob/master/%D0%BA%D0%BE%D1%80%D0%BE%D0%B1%D0%BA%D0%B0%20%D0%BF%D0%B5%D1%80%D0%B5%D0%B4%D0%B0%D1%87/test/test.csv_image_2?raw=true\n",
        "коробка передач;https://github.com/Olgera/potential-happiness/blob/master/%D0%BA%D0%BE%D1%80%D0%BE%D0%B1%D0%BA%D0%B0%20%D0%BF%D0%B5%D1%80%D0%B5%D0%B4%D0%B0%D1%87/test/test.csv_image_3?raw=true\n",
        "коробка передач;https://github.com/Olgera/potential-happiness/blob/master/%D0%BA%D0%BE%D1%80%D0%BE%D0%B1%D0%BA%D0%B0%20%D0%BF%D0%B5%D1%80%D0%B5%D0%B4%D0%B0%D1%87/test/test.csv_image_4?raw=true\n",
        "коробка передач;https://github.com/Olgera/potential-happiness/blob/master/%D0%BA%D0%BE%D1%80%D0%BE%D0%B1%D0%BA%D0%B0%20%D0%BF%D0%B5%D1%80%D0%B5%D0%B4%D0%B0%D1%87/test/test.csv_image_5?raw=true\n",
        "коробка передач;https://github.com/Olgera/potential-happiness/blob/master/%D0%BA%D0%BE%D1%80%D0%BE%D0%B1%D0%BA%D0%B0%20%D0%BF%D0%B5%D1%80%D0%B5%D0%B4%D0%B0%D1%87/test/test.csv_image_6?raw=true\n",
        "коробка передач;https://github.com/Olgera/potential-happiness/blob/master/%D0%BA%D0%BE%D1%80%D0%BE%D0%B1%D0%BA%D0%B0%20%D0%BF%D0%B5%D1%80%D0%B5%D0%B4%D0%B0%D1%87/test/test.csv_image_7?raw=true\n",
        "коробка передач;https://github.com/Olgera/potential-happiness/blob/master/%D0%BA%D0%BE%D1%80%D0%BE%D0%B1%D0%BA%D0%B0%20%D0%BF%D0%B5%D1%80%D0%B5%D0%B4%D0%B0%D1%87/test/test.csv_image_8?raw=true\n",
        "коробка передач;https://github.com/Olgera/potential-happiness/blob/master/%D0%BA%D0%BE%D1%80%D0%BE%D0%B1%D0%BA%D0%B0%20%D0%BF%D0%B5%D1%80%D0%B5%D0%B4%D0%B0%D1%87/test/test.csv_image_9?raw=true\n",
        "коробка передач;https://github.com/Olgera/potential-happiness/blob/master/%D0%BA%D0%BE%D1%80%D0%BE%D0%B1%D0%BA%D0%B0%20%D0%BF%D0%B5%D1%80%D0%B5%D0%B4%D0%B0%D1%87/test/test.csv_image_10?raw=true\n",
        "коробка передач;https://github.com/Olgera/potential-happiness/blob/master/%D0%BA%D0%BE%D1%80%D0%BE%D0%B1%D0%BA%D0%B0%20%D0%BF%D0%B5%D1%80%D0%B5%D0%B4%D0%B0%D1%87/train/train.csv_image_1?raw=true\n",
        "коробка передач;https://github.com/Olgera/potential-happiness/blob/master/%D0%BA%D0%BE%D1%80%D0%BE%D0%B1%D0%BA%D0%B0%20%D0%BF%D0%B5%D1%80%D0%B5%D0%B4%D0%B0%D1%87/train/train.csv_image_2?raw=true\n",
        "коробка передач;https://github.com/Olgera/potential-happiness/blob/master/%D0%BA%D0%BE%D1%80%D0%BE%D0%B1%D0%BA%D0%B0%20%D0%BF%D0%B5%D1%80%D0%B5%D0%B4%D0%B0%D1%87/train/train.csv_image_3?raw=true\n",
        "коробка передач;https://github.com/Olgera/potential-happiness/blob/master/%D0%BA%D0%BE%D1%80%D0%BE%D0%B1%D0%BA%D0%B0%20%D0%BF%D0%B5%D1%80%D0%B5%D0%B4%D0%B0%D1%87/train/train.csv_image_4?raw=true\n",
        "коробка передач;https://github.com/Olgera/potential-happiness/blob/master/%D0%BA%D0%BE%D1%80%D0%BE%D0%B1%D0%BA%D0%B0%20%D0%BF%D0%B5%D1%80%D0%B5%D0%B4%D0%B0%D1%87/train/train.csv_image_5?raw=true\n",
        "коробка передач;https://github.com/Olgera/potential-happiness/blob/master/%D0%BA%D0%BE%D1%80%D0%BE%D0%B1%D0%BA%D0%B0%20%D0%BF%D0%B5%D1%80%D0%B5%D0%B4%D0%B0%D1%87/train/train.csv_image_6?raw=true\n",
        "коробка передач;https://github.com/Olgera/potential-happiness/blob/master/%D0%BA%D0%BE%D1%80%D0%BE%D0%B1%D0%BA%D0%B0%20%D0%BF%D0%B5%D1%80%D0%B5%D0%B4%D0%B0%D1%87/train/train.csv_image_7?raw=true\n",
        "коробка передач;https://github.com/Olgera/potential-happiness/blob/master/%D0%BA%D0%BE%D1%80%D0%BE%D0%B1%D0%BA%D0%B0%20%D0%BF%D0%B5%D1%80%D0%B5%D0%B4%D0%B0%D1%87/train/train.csv_image_8?raw=true\n",
        "коробка передач;https://github.com/Olgera/potential-happiness/blob/master/%D0%BA%D0%BE%D1%80%D0%BE%D0%B1%D0%BA%D0%B0%20%D0%BF%D0%B5%D1%80%D0%B5%D0%B4%D0%B0%D1%87/train/train.csv_image_9?raw=true\n",
        "коробка передач;https://github.com/Olgera/potential-happiness/blob/master/%D0%BA%D0%BE%D1%80%D0%BE%D0%B1%D0%BA%D0%B0%20%D0%BF%D0%B5%D1%80%D0%B5%D0%B4%D0%B0%D1%87/train/train.csv_image_10?raw=true\n",
        "коробка передач;https://github.com/Olgera/potential-happiness/blob/master/%D0%BA%D0%BE%D1%80%D0%BE%D0%B1%D0%BA%D0%B0%20%D0%BF%D0%B5%D1%80%D0%B5%D0%B4%D0%B0%D1%87/train/train.csv_image_11?raw=true\n",
        "коробка передач;https://github.com/Olgera/potential-happiness/blob/master/%D0%BA%D0%BE%D1%80%D0%BE%D0%B1%D0%BA%D0%B0%20%D0%BF%D0%B5%D1%80%D0%B5%D0%B4%D0%B0%D1%87/train/train.csv_image_12?raw=true\n",
        "коробка передач;https://github.com/Olgera/potential-happiness/blob/master/%D0%BA%D0%BE%D1%80%D0%BE%D0%B1%D0%BA%D0%B0%20%D0%BF%D0%B5%D1%80%D0%B5%D0%B4%D0%B0%D1%87/train/train.csv_image_13?raw=true\n",
        "коробка передач;https://github.com/Olgera/potential-happiness/blob/master/%D0%BA%D0%BE%D1%80%D0%BE%D0%B1%D0%BA%D0%B0%20%D0%BF%D0%B5%D1%80%D0%B5%D0%B4%D0%B0%D1%87/train/train.csv_image_14?raw=true\n",
        "коробка передач;https://github.com/Olgera/potential-happiness/blob/master/%D0%BA%D0%BE%D1%80%D0%BE%D0%B1%D0%BA%D0%B0%20%D0%BF%D0%B5%D1%80%D0%B5%D0%B4%D0%B0%D1%87/train/train.csv_image_15?raw=true\n",
        "коробка передач;https://github.com/Olgera/potential-happiness/blob/master/%D0%BA%D0%BE%D1%80%D0%BE%D0%B1%D0%BA%D0%B0%20%D0%BF%D0%B5%D1%80%D0%B5%D0%B4%D0%B0%D1%87/train/train.csv_image_16?raw=true\n",
        "коробка передач;https://github.com/Olgera/potential-happiness/blob/master/%D0%BA%D0%BE%D1%80%D0%BE%D0%B1%D0%BA%D0%B0%20%D0%BF%D0%B5%D1%80%D0%B5%D0%B4%D0%B0%D1%87/train/train.csv_image_17?raw=true\n",
        "коробка передач;https://github.com/Olgera/potential-happiness/blob/master/%D0%BA%D0%BE%D1%80%D0%BE%D0%B1%D0%BA%D0%B0%20%D0%BF%D0%B5%D1%80%D0%B5%D0%B4%D0%B0%D1%87/train/train.csv_image_18?raw=true\n",
        "коробка передач;https://github.com/Olgera/potential-happiness/blob/master/%D0%BA%D0%BE%D1%80%D0%BE%D0%B1%D0%BA%D0%B0%20%D0%BF%D0%B5%D1%80%D0%B5%D0%B4%D0%B0%D1%87/train/train.csv_image_19?raw=true\n",
        "коробка передач;https://github.com/Olgera/potential-happiness/blob/master/%D0%BA%D0%BE%D1%80%D0%BE%D0%B1%D0%BA%D0%B0%20%D0%BF%D0%B5%D1%80%D0%B5%D0%B4%D0%B0%D1%87/train/train.csv_image_20?raw=true\n",
        "коробка передач;https://github.com/Olgera/potential-happiness/blob/master/%D0%BA%D0%BE%D1%80%D0%BE%D0%B1%D0%BA%D0%B0%20%D0%BF%D0%B5%D1%80%D0%B5%D0%B4%D0%B0%D1%87/train/train.csv_image_21?raw=true\n",
        "коробка передач;https://github.com/Olgera/potential-happiness/blob/master/%D0%BA%D0%BE%D1%80%D0%BE%D0%B1%D0%BA%D0%B0%20%D0%BF%D0%B5%D1%80%D0%B5%D0%B4%D0%B0%D1%87/train/train.csv_image_22?raw=true\n",
        "коробка передач;https://github.com/Olgera/potential-happiness/blob/master/%D0%BA%D0%BE%D1%80%D0%BE%D0%B1%D0%BA%D0%B0%20%D0%BF%D0%B5%D1%80%D0%B5%D0%B4%D0%B0%D1%87/train/train.csv_image_23?raw=true\n",
        "коробка передач;https://github.com/Olgera/potential-happiness/blob/master/%D0%BA%D0%BE%D1%80%D0%BE%D0%B1%D0%BA%D0%B0%20%D0%BF%D0%B5%D1%80%D0%B5%D0%B4%D0%B0%D1%87/train/train.csv_image_24?raw=true\n",
        "коробка передач;https://github.com/Olgera/potential-happiness/blob/master/%D0%BA%D0%BE%D1%80%D0%BE%D0%B1%D0%BA%D0%B0%20%D0%BF%D0%B5%D1%80%D0%B5%D0%B4%D0%B0%D1%87/train/train.csv_image_25?raw=true\n",
        "коробка передач;https://github.com/Olgera/potential-happiness/blob/master/%D0%BA%D0%BE%D1%80%D0%BE%D0%B1%D0%BA%D0%B0%20%D0%BF%D0%B5%D1%80%D0%B5%D0%B4%D0%B0%D1%87/train/train.csv_image_26?raw=true\n",
        "коробка передач;https://github.com/Olgera/potential-happiness/blob/master/%D0%BA%D0%BE%D1%80%D0%BE%D0%B1%D0%BA%D0%B0%20%D0%BF%D0%B5%D1%80%D0%B5%D0%B4%D0%B0%D1%87/train/train.csv_image_27?raw=true\n",
        "коробка передач;https://github.com/Olgera/potential-happiness/blob/master/%D0%BA%D0%BE%D1%80%D0%BE%D0%B1%D0%BA%D0%B0%20%D0%BF%D0%B5%D1%80%D0%B5%D0%B4%D0%B0%D1%87/train/train.csv_image_28?raw=true\n",
        "коробка передач;https://github.com/Olgera/potential-happiness/blob/master/%D0%BA%D0%BE%D1%80%D0%BE%D0%B1%D0%BA%D0%B0%20%D0%BF%D0%B5%D1%80%D0%B5%D0%B4%D0%B0%D1%87/train/train.csv_image_29?raw=true\n",
        "коробка передач;https://github.com/Olgera/potential-happiness/blob/master/%D0%BA%D0%BE%D1%80%D0%BE%D0%B1%D0%BA%D0%B0%20%D0%BF%D0%B5%D1%80%D0%B5%D0%B4%D0%B0%D1%87/train/train.csv_image_30?raw=true\n",
        "коробка передач;https://github.com/Olgera/potential-happiness/blob/master/%D0%BA%D0%BE%D1%80%D0%BE%D0%B1%D0%BA%D0%B0%20%D0%BF%D0%B5%D1%80%D0%B5%D0%B4%D0%B0%D1%87/train/train.csv_image_31?raw=true\n",
        "коробка передач;https://github.com/Olgera/potential-happiness/blob/master/%D0%BA%D0%BE%D1%80%D0%BE%D0%B1%D0%BA%D0%B0%20%D0%BF%D0%B5%D1%80%D0%B5%D0%B4%D0%B0%D1%87/train/train.csv_image_32?raw=true\n",
        "коробка передач;https://github.com/Olgera/potential-happiness/blob/master/%D0%BA%D0%BE%D1%80%D0%BE%D0%B1%D0%BA%D0%B0%20%D0%BF%D0%B5%D1%80%D0%B5%D0%B4%D0%B0%D1%87/train/train.csv_image_33?raw=true\n",
        "коробка передач;https://github.com/Olgera/potential-happiness/blob/master/%D0%BA%D0%BE%D1%80%D0%BE%D0%B1%D0%BA%D0%B0%20%D0%BF%D0%B5%D1%80%D0%B5%D0%B4%D0%B0%D1%87/train/train.csv_image_34?raw=true\n",
        "коробка передач;https://github.com/Olgera/potential-happiness/blob/master/%D0%BA%D0%BE%D1%80%D0%BE%D0%B1%D0%BA%D0%B0%20%D0%BF%D0%B5%D1%80%D0%B5%D0%B4%D0%B0%D1%87/train/train.csv_image_35?raw=true\n",
        "коробка передач;https://github.com/Olgera/potential-happiness/blob/master/%D0%BA%D0%BE%D1%80%D0%BE%D0%B1%D0%BA%D0%B0%20%D0%BF%D0%B5%D1%80%D0%B5%D0%B4%D0%B0%D1%87/train/train.csv_image_36?raw=true\n",
        "коробка передач;https://github.com/Olgera/potential-happiness/blob/master/%D0%BA%D0%BE%D1%80%D0%BE%D0%B1%D0%BA%D0%B0%20%D0%BF%D0%B5%D1%80%D0%B5%D0%B4%D0%B0%D1%87/train/train.csv_image_37?raw=true\n",
        "коробка передач;https://github.com/Olgera/potential-happiness/blob/master/%D0%BA%D0%BE%D1%80%D0%BE%D0%B1%D0%BA%D0%B0%20%D0%BF%D0%B5%D1%80%D0%B5%D0%B4%D0%B0%D1%87/train/train.csv_image_38?raw=true\n",
        "коробка передач;https://github.com/Olgera/potential-happiness/blob/master/%D0%BA%D0%BE%D1%80%D0%BE%D0%B1%D0%BA%D0%B0%20%D0%BF%D0%B5%D1%80%D0%B5%D0%B4%D0%B0%D1%87/train/train.csv_image_39?raw=true\n",
        "коробка передач;https://github.com/Olgera/potential-happiness/blob/master/%D0%BA%D0%BE%D1%80%D0%BE%D0%B1%D0%BA%D0%B0%20%D0%BF%D0%B5%D1%80%D0%B5%D0%B4%D0%B0%D1%87/train/train.csv_image_40?raw=true\n",
        "ротор турбины;https://github.com/Olgera/potential-happiness/blob/master/%D1%80%D0%BE%D1%82%D0%BE%D1%80%20%D1%82%D1%83%D1%80%D0%B1%D0%B8%D0%BD%D1%8B/test/test.csv_image_1?raw=true\n",
        "ротор турбины;https://github.com/Olgera/potential-happiness/blob/master/%D1%80%D0%BE%D1%82%D0%BE%D1%80%20%D1%82%D1%83%D1%80%D0%B1%D0%B8%D0%BD%D1%8B/test/test.csv_image_2?raw=true\n",
        "ротор турбины;https://github.com/Olgera/potential-happiness/blob/master/%D1%80%D0%BE%D1%82%D0%BE%D1%80%20%D1%82%D1%83%D1%80%D0%B1%D0%B8%D0%BD%D1%8B/test/test.csv_image_3?raw=true\n",
        "ротор турбины;https://github.com/Olgera/potential-happiness/blob/master/%D1%80%D0%BE%D1%82%D0%BE%D1%80%20%D1%82%D1%83%D1%80%D0%B1%D0%B8%D0%BD%D1%8B/test/test.csv_image_4?raw=true\n",
        "ротор турбины;https://github.com/Olgera/potential-happiness/blob/master/%D1%80%D0%BE%D1%82%D0%BE%D1%80%20%D1%82%D1%83%D1%80%D0%B1%D0%B8%D0%BD%D1%8B/test/test.csv_image_5?raw=true\n",
        "ротор турбины;https://github.com/Olgera/potential-happiness/blob/master/%D1%80%D0%BE%D1%82%D0%BE%D1%80%20%D1%82%D1%83%D1%80%D0%B1%D0%B8%D0%BD%D1%8B/test/test.csv_image_6?raw=true\n",
        "ротор турбины;https://github.com/Olgera/potential-happiness/blob/master/%D1%80%D0%BE%D1%82%D0%BE%D1%80%20%D1%82%D1%83%D1%80%D0%B1%D0%B8%D0%BD%D1%8B/test/test.csv_image_7?raw=true\n",
        "ротор турбины;https://github.com/Olgera/potential-happiness/blob/master/%D1%80%D0%BE%D1%82%D0%BE%D1%80%20%D1%82%D1%83%D1%80%D0%B1%D0%B8%D0%BD%D1%8B/test/test.csv_image_8?raw=true\n",
        "ротор турбины;https://github.com/Olgera/potential-happiness/blob/master/%D1%80%D0%BE%D1%82%D0%BE%D1%80%20%D1%82%D1%83%D1%80%D0%B1%D0%B8%D0%BD%D1%8B/test/test.csv_image_9?raw=true\n",
        "ротор турбины;https://github.com/Olgera/potential-happiness/blob/master/%D1%80%D0%BE%D1%82%D0%BE%D1%80%20%D1%82%D1%83%D1%80%D0%B1%D0%B8%D0%BD%D1%8B/test/test.csv_image_10?raw=true\n",
        "ротор турбины;https://github.com/Olgera/potential-happiness/blob/master/%D1%80%D0%BE%D1%82%D0%BE%D1%80%20%D1%82%D1%83%D1%80%D0%B1%D0%B8%D0%BD%D1%8B/train/train.csv_image_1?raw=true\n",
        "ротор турбины;https://github.com/Olgera/potential-happiness/blob/master/%D1%80%D0%BE%D1%82%D0%BE%D1%80%20%D1%82%D1%83%D1%80%D0%B1%D0%B8%D0%BD%D1%8B/train/train.csv_image_2?raw=true\n",
        "ротор турбины;https://github.com/Olgera/potential-happiness/blob/master/%D1%80%D0%BE%D1%82%D0%BE%D1%80%20%D1%82%D1%83%D1%80%D0%B1%D0%B8%D0%BD%D1%8B/train/train.csv_image_3?raw=true\n",
        "ротор турбины;https://github.com/Olgera/potential-happiness/blob/master/%D1%80%D0%BE%D1%82%D0%BE%D1%80%20%D1%82%D1%83%D1%80%D0%B1%D0%B8%D0%BD%D1%8B/train/train.csv_image_4?raw=true\n",
        "ротор турбины;https://github.com/Olgera/potential-happiness/blob/master/%D1%80%D0%BE%D1%82%D0%BE%D1%80%20%D1%82%D1%83%D1%80%D0%B1%D0%B8%D0%BD%D1%8B/train/train.csv_image_5?raw=true\n",
        "ротор турбины;https://github.com/Olgera/potential-happiness/blob/master/%D1%80%D0%BE%D1%82%D0%BE%D1%80%20%D1%82%D1%83%D1%80%D0%B1%D0%B8%D0%BD%D1%8B/train/train.csv_image_6?raw=true\n",
        "ротор турбины;https://github.com/Olgera/potential-happiness/blob/master/%D1%80%D0%BE%D1%82%D0%BE%D1%80%20%D1%82%D1%83%D1%80%D0%B1%D0%B8%D0%BD%D1%8B/train/train.csv_image_7?raw=true\n",
        "ротор турбины;https://github.com/Olgera/potential-happiness/blob/master/%D1%80%D0%BE%D1%82%D0%BE%D1%80%20%D1%82%D1%83%D1%80%D0%B1%D0%B8%D0%BD%D1%8B/train/train.csv_image_8?raw=true\n",
        "ротор турбины;https://github.com/Olgera/potential-happiness/blob/master/%D1%80%D0%BE%D1%82%D0%BE%D1%80%20%D1%82%D1%83%D1%80%D0%B1%D0%B8%D0%BD%D1%8B/train/train.csv_image_9?raw=true\n",
        "ротор турбины;https://github.com/Olgera/potential-happiness/blob/master/%D1%80%D0%BE%D1%82%D0%BE%D1%80%20%D1%82%D1%83%D1%80%D0%B1%D0%B8%D0%BD%D1%8B/train/train.csv_image_10?raw=true\n",
        "ротор турбины;https://github.com/Olgera/potential-happiness/blob/master/%D1%80%D0%BE%D1%82%D0%BE%D1%80%20%D1%82%D1%83%D1%80%D0%B1%D0%B8%D0%BD%D1%8B/train/train.csv_image_11?raw=true\n",
        "ротор турбины;https://github.com/Olgera/potential-happiness/blob/master/%D1%80%D0%BE%D1%82%D0%BE%D1%80%20%D1%82%D1%83%D1%80%D0%B1%D0%B8%D0%BD%D1%8B/train/train.csv_image_12?raw=true\n",
        "ротор турбины;https://github.com/Olgera/potential-happiness/blob/master/%D1%80%D0%BE%D1%82%D0%BE%D1%80%20%D1%82%D1%83%D1%80%D0%B1%D0%B8%D0%BD%D1%8B/train/train.csv_image_13?raw=true\n",
        "ротор турбины;https://github.com/Olgera/potential-happiness/blob/master/%D1%80%D0%BE%D1%82%D0%BE%D1%80%20%D1%82%D1%83%D1%80%D0%B1%D0%B8%D0%BD%D1%8B/train/train.csv_image_14?raw=true\n",
        "ротор турбины;https://github.com/Olgera/potential-happiness/blob/master/%D1%80%D0%BE%D1%82%D0%BE%D1%80%20%D1%82%D1%83%D1%80%D0%B1%D0%B8%D0%BD%D1%8B/train/train.csv_image_15?raw=true\n",
        "ротор турбины;https://github.com/Olgera/potential-happiness/blob/master/%D1%80%D0%BE%D1%82%D0%BE%D1%80%20%D1%82%D1%83%D1%80%D0%B1%D0%B8%D0%BD%D1%8B/train/train.csv_image_16?raw=true\n",
        "ротор турбины;https://github.com/Olgera/potential-happiness/blob/master/%D1%80%D0%BE%D1%82%D0%BE%D1%80%20%D1%82%D1%83%D1%80%D0%B1%D0%B8%D0%BD%D1%8B/train/train.csv_image_17?raw=true\n",
        "ротор турбины;https://github.com/Olgera/potential-happiness/blob/master/%D1%80%D0%BE%D1%82%D0%BE%D1%80%20%D1%82%D1%83%D1%80%D0%B1%D0%B8%D0%BD%D1%8B/train/train.csv_image_18?raw=true\n",
        "ротор турбины;https://github.com/Olgera/potential-happiness/blob/master/%D1%80%D0%BE%D1%82%D0%BE%D1%80%20%D1%82%D1%83%D1%80%D0%B1%D0%B8%D0%BD%D1%8B/train/train.csv_image_19?raw=true\n",
        "ротор турбины;https://github.com/Olgera/potential-happiness/blob/master/%D1%80%D0%BE%D1%82%D0%BE%D1%80%20%D1%82%D1%83%D1%80%D0%B1%D0%B8%D0%BD%D1%8B/train/train.csv_image_20?raw=true\n",
        "ротор турбины;https://github.com/Olgera/potential-happiness/blob/master/%D1%80%D0%BE%D1%82%D0%BE%D1%80%20%D1%82%D1%83%D1%80%D0%B1%D0%B8%D0%BD%D1%8B/train/train.csv_image_21?raw=true\n",
        "ротор турбины;https://github.com/Olgera/potential-happiness/blob/master/%D1%80%D0%BE%D1%82%D0%BE%D1%80%20%D1%82%D1%83%D1%80%D0%B1%D0%B8%D0%BD%D1%8B/train/train.csv_image_22?raw=true\n",
        "ротор турбины;https://github.com/Olgera/potential-happiness/blob/master/%D1%80%D0%BE%D1%82%D0%BE%D1%80%20%D1%82%D1%83%D1%80%D0%B1%D0%B8%D0%BD%D1%8B/train/train.csv_image_23?raw=true\n",
        "ротор турбины;https://github.com/Olgera/potential-happiness/blob/master/%D1%80%D0%BE%D1%82%D0%BE%D1%80%20%D1%82%D1%83%D1%80%D0%B1%D0%B8%D0%BD%D1%8B/train/train.csv_image_24?raw=true\n",
        "ротор турбины;https://github.com/Olgera/potential-happiness/blob/master/%D1%80%D0%BE%D1%82%D0%BE%D1%80%20%D1%82%D1%83%D1%80%D0%B1%D0%B8%D0%BD%D1%8B/train/train.csv_image_25?raw=true\n",
        "ротор турбины;https://github.com/Olgera/potential-happiness/blob/master/%D1%80%D0%BE%D1%82%D0%BE%D1%80%20%D1%82%D1%83%D1%80%D0%B1%D0%B8%D0%BD%D1%8B/train/train.csv_image_26?raw=true\n",
        "ротор турбины;https://github.com/Olgera/potential-happiness/blob/master/%D1%80%D0%BE%D1%82%D0%BE%D1%80%20%D1%82%D1%83%D1%80%D0%B1%D0%B8%D0%BD%D1%8B/train/train.csv_image_27?raw=true\n",
        "ротор турбины;https://github.com/Olgera/potential-happiness/blob/master/%D1%80%D0%BE%D1%82%D0%BE%D1%80%20%D1%82%D1%83%D1%80%D0%B1%D0%B8%D0%BD%D1%8B/train/train.csv_image_28?raw=true\n",
        "ротор турбины;https://github.com/Olgera/potential-happiness/blob/master/%D1%80%D0%BE%D1%82%D0%BE%D1%80%20%D1%82%D1%83%D1%80%D0%B1%D0%B8%D0%BD%D1%8B/train/train.csv_image_29?raw=true\n",
        "ротор турбины;https://github.com/Olgera/potential-happiness/blob/master/%D1%80%D0%BE%D1%82%D0%BE%D1%80%20%D1%82%D1%83%D1%80%D0%B1%D0%B8%D0%BD%D1%8B/train/train.csv_image_30?raw=true\n",
        "ротор турбины;https://github.com/Olgera/potential-happiness/blob/master/%D1%80%D0%BE%D1%82%D0%BE%D1%80%20%D1%82%D1%83%D1%80%D0%B1%D0%B8%D0%BD%D1%8B/train/train.csv_image_31?raw=true\n",
        "ротор турбины;https://github.com/Olgera/potential-happiness/blob/master/%D1%80%D0%BE%D1%82%D0%BE%D1%80%20%D1%82%D1%83%D1%80%D0%B1%D0%B8%D0%BD%D1%8B/train/train.csv_image_32?raw=true\n",
        "ротор турбины;https://github.com/Olgera/potential-happiness/blob/master/%D1%80%D0%BE%D1%82%D0%BE%D1%80%20%D1%82%D1%83%D1%80%D0%B1%D0%B8%D0%BD%D1%8B/train/train.csv_image_33?raw=true\n",
        "ротор турбины;https://github.com/Olgera/potential-happiness/blob/master/%D1%80%D0%BE%D1%82%D0%BE%D1%80%20%D1%82%D1%83%D1%80%D0%B1%D0%B8%D0%BD%D1%8B/train/train.csv_image_34?raw=true\n",
        "ротор турбины;https://github.com/Olgera/potential-happiness/blob/master/%D1%80%D0%BE%D1%82%D0%BE%D1%80%20%D1%82%D1%83%D1%80%D0%B1%D0%B8%D0%BD%D1%8B/train/train.csv_image_35?raw=true\n",
        "ротор турбины;https://github.com/Olgera/potential-happiness/blob/master/%D1%80%D0%BE%D1%82%D0%BE%D1%80%20%D1%82%D1%83%D1%80%D0%B1%D0%B8%D0%BD%D1%8B/train/train.csv_image_36?raw=true\n",
        "ротор турбины;https://github.com/Olgera/potential-happiness/blob/master/%D1%80%D0%BE%D1%82%D0%BE%D1%80%20%D1%82%D1%83%D1%80%D0%B1%D0%B8%D0%BD%D1%8B/train/train.csv_image_37?raw=true\n",
        "ротор турбины;https://github.com/Olgera/potential-happiness/blob/master/%D1%80%D0%BE%D1%82%D0%BE%D1%80%20%D1%82%D1%83%D1%80%D0%B1%D0%B8%D0%BD%D1%8B/train/train.csv_image_38?raw=true\n",
        "ротор турбины;https://github.com/Olgera/potential-happiness/blob/master/%D1%80%D0%BE%D1%82%D0%BE%D1%80%20%D1%82%D1%83%D1%80%D0%B1%D0%B8%D0%BD%D1%8B/train/train.csv_image_39?raw=true\n",
        "ротор турбины;https://github.com/Olgera/potential-happiness/blob/master/%D1%80%D0%BE%D1%82%D0%BE%D1%80%20%D1%82%D1%83%D1%80%D0%B1%D0%B8%D0%BD%D1%8B/train/train.csv_image_40?raw=true"
      ]
    },
    {
      "cell_type": "markdown",
      "metadata": {
        "id": "DAUDrQcqNBPn"
      },
      "source": [
        "## Классификация изображений с библиотечными коэффициентами"
      ]
    },
    {
      "cell_type": "markdown",
      "metadata": {
        "id": "FCRSoveE_seW"
      },
      "source": [
        "Для простоты сравнения создадим три одинаковых блоках для переключения между средами выполнения. Выполним построение на CPU."
      ]
    },
    {
      "cell_type": "markdown",
      "metadata": {
        "id": "0gooONR6KJ0T"
      },
      "source": [
        "CPU"
      ]
    },
    {
      "cell_type": "code",
      "execution_count": null,
      "metadata": {
        "id": "RTpMfmFeU-UI"
      },
      "outputs": [],
      "source": [
        "models = [alexNet, resNet50, denseNet, mobileNetV3_small, swinT]\n",
        "for model in models:\n",
        "  transform = model['preprocess']\n",
        "  simple = UrlDataset(\"simple.csv\", device, transform)\n",
        "  print('-'*70)\n",
        "  print(f'Model: { model[\"model\"].__class__.__name__}')\n",
        "  print(f'Number of parameters: {sum(item.numel() for item in model[\"model\"].parameters())}')\n",
        "\n",
        "  num_per_row = 5\n",
        "  single_size = 3.5\n",
        "  vspace = 0.4\n",
        "\n",
        "  classify(simple, denormalize(simple, transform), num_per_row=num_per_row, single_size=single_size, vspace = vspace,\n",
        "              labels = simple.classes, model=model['model'], model_labels=model['weights'].meta[\"categories\"],\n",
        "              debug=True)\n"
      ]
    },
    {
      "cell_type": "markdown",
      "metadata": {
        "id": "rd_Y36MoKsxI"
      },
      "source": [
        "GPU"
      ]
    },
    {
      "cell_type": "code",
      "execution_count": null,
      "metadata": {
        "id": "b_qlSWhCKQw2"
      },
      "outputs": [],
      "source": [
        "models = [alexNet, resNet50, denseNet, mobileNetV3_small, swinT]\n",
        "for model in models:\n",
        "  transform = model['preprocess']\n",
        "  simple = UrlDataset(\"simple.csv\", device, transform)\n",
        "  print('-'*70)\n",
        "  print(f'Model: { model[\"model\"].__class__.__name__}')\n",
        "  print(f'Number of parameters: {sum(item.numel() for item in model[\"model\"].parameters())}')\n",
        "\n",
        "  num_per_row = 5\n",
        "  single_size = 3.5\n",
        "  vspace = 0.4\n",
        "\n",
        "  classify(simple, denormalize(simple, transform), num_per_row=num_per_row, single_size=single_size, vspace = vspace,\n",
        "              labels = simple.classes, model=model['model'], model_labels=model['weights'].meta[\"categories\"],\n",
        "              debug=True)"
      ]
    },
    {
      "cell_type": "markdown",
      "metadata": {
        "id": "tsukth94NNUv"
      },
      "source": [
        "TPU"
      ]
    },
    {
      "cell_type": "code",
      "execution_count": null,
      "metadata": {
        "id": "wifsMjAIHOGh"
      },
      "outputs": [],
      "source": [
        "models = [alexNet, resNet50, denseNet, mobileNetV3_small, swinT]\n",
        "for model in models:\n",
        "  transform = model['preprocess']\n",
        "  simple = UrlDataset(\"simple.csv\", device, transform)\n",
        "  print('-'*70)\n",
        "  print(f'Model: { model[\"model\"].__class__.__name__}')\n",
        "  print(f'Number of parameters: {sum(item.numel() for item in model[\"model\"].parameters())}')\n",
        "\n",
        "  num_per_row = 5\n",
        "  single_size = 3.5\n",
        "  vspace = 0.4\n",
        "\n",
        "  classify(simple, denormalize(simple, transform), num_per_row=num_per_row, single_size=single_size, vspace = vspace,\n",
        "              labels = simple.classes, model=model['model'], model_labels=model['weights'].meta[\"categories\"],\n",
        "              debug=True)"
      ]
    },
    {
      "cell_type": "markdown",
      "metadata": {
        "id": "57qrDCiqATPR"
      },
      "source": [
        "Построим график средней скорости классификации изображений для разных моделей (AlexNet, DenseNet, MobileNet, ResNet50, SwinT) и сред исполнения (CPU, GPU, TPU). ![image.png](data:image/png;base64,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)"
      ]
    },
    {
      "cell_type": "markdown",
      "metadata": {
        "id": "xRyB4-lpCB9w"
      },
      "source": [
        "Видим, что в основном наименьшее время распознавания у среды выполнения GPU."
      ]
    },
    {
      "cell_type": "markdown",
      "metadata": {
        "id": "1ho1ZQXgAsp6"
      },
      "source": [
        "Ни одна из моделей не идентифицировала изображения правильно, соответственно, точность распознавания для данного датасета будет равна 0."
      ]
    },
    {
      "cell_type": "markdown",
      "source": [
        "Проверим еще раз скорость выполнения в разных моделях. Среднее время классификации немного увеличилось, возможно из-за загруженности сервера. В модели AlexNet среднее время выполнения в GPU выше, чем в CPU. Возможно, это связано с тем, что AlexNet самая ранняя модель среди представленных, и она хуже всех оптимизирована. Помимо этого, база данных AlexNet содержит 1000 классов, что меньше количества классов в остальных моделях. Также AlexNet содержит меньше слоев, чем остальные представленные модели. Возможно, совокупность этих факторов и нашего достаточно специализированного датасета обуславливает такое необычное распределение скоростей на диаграмме."
      ],
      "metadata": {
        "id": "ZZgYHm0HpMeQ"
      }
    },
    {
      "cell_type": "markdown",
      "source": [
        "![image.png](data:image/png;base64,iVBORw0KGgoAAAANSUhEUgAAAvAAAAHECAMAAABoe+5uAAAAAXNSR0IArs4c6QAAAARnQU1BAACxjwv8YQUAAADYUExURdnZ2dra2tra2tnZ2URyxFlZWVxcXGBgYGRkZGhoaGxsbHFxcXNzc3R0dHZ2dnl5eXp6en5+foKCgoWFhYeHh4qKiouLi42NjY+Pj5KSkpOTk5WVlZiYmJubm5ycnJ+fn6Ojo6Wlpaenp6mpqaurq66urrGxsbOzs7S0tLi4uLu7u729vb+/v8LCwsXFxcjIyMrKytDQ0NTU1NbW1tfX19nZ2dvb2+Dg4OLi4uPj4+Tk5Onp6erq6uvr6+zs7O19Me7u7vHx8fLy8vX19fj4+Pn5+fz8/P///3woQrMAAAAEdFJOU4efx9+nhZkZAAAACXBIWXMAABcRAAAXEQHKJvM/AAAuW0lEQVR4Xu2dAX8cx3XkfXcBydA8U5R90Pksn2FFuiQOxVgWzChhTpEiAfz+3yivu2pmumtnl71gY4Gdrv9P4s5M7Uz1e1MYzC6A3l/84q/GDMN/c97NUETg3xszCA68GQoH3gyFA2+GwoE3Q+HAm6Fw4M1QOPBmKBx4MxQOvBkKB94MhQNvhsKBN0PhwJuhcODNUDjwZigceDMUDrwZCgfeDIUDb4bCgTdD4cCboXDgzVA48GYoHHgzFA68GQoH3gzFmQf+3bMnb7n4wFy/+jL+vf3i03/F+gZ5PM3+CBz4TlxfvPz5/fub5xvIxD4c+Pvh9QVpaO/jOQcxkjdp7E9/5Ibt4cDfD+cZ+PdXFxcvnl1cpBubjeLA3w+v881BG4/pHHwdcX/xNVe2iAN/P5xr4DePA38/OPCPFAf+fpgDf3v55O3tn+JG4dM/Y/2ffhN39i8+n74cfvjTJ/lW/3f/kldvL3kDzYVp/bp+IXn7TeyVbz30+O/f/yUZzGs3z9Phg/JoaWu8Ok0Uz1bvmdKtHk7e+8Xn/56W94yE6nKUOMbE0x/3e4rTNXf5LK1IE5fxlcsrhz6q2ZXJ/FSOZ9+uy8J98sgD/8+fpi4jcil/T15FKn6F/M4vbi+ww9yvePlYNDIe8pkmNzxibJPjp2eGwbSWrmgXL169ig3F0ZbAV8+eVXpPVG7TM9Nwbv8A4SK9txMbZSSVuhwleZIi8OIpTkuj0po0sRjfyliLQx/V7NpkfqoGvt51t4574XEHPvr2/35+//3z/IbNzS9jOccwtyVOwef/nr7L/vAFTsLUuHRBKxp5Xb/bc3XxJK5h338aG+X4SUoP31zwEs6rFQ4zHX0OfPVs9Z6o3YrhxMlN17+/PJs8ZCSlWh4lmPqzz1Oc0g4pz1dIdd3E8si7Y10OfVyza5PpqSFWgZddF7N75ZEHHqdsOj0AZw7bcFsZrVpCF0LVSDx9ItQc19v/nU9refz5FnXaAwPhYfgwB75+tnoTcUtKOfp5YWcklRr/zkcJJPChSlAqp3lhXs3Mw5iPXC7roWMhHo5uNtYoaeB113n9fnnkgUcDYqHoI3T8i3MAHU+Pf/8O+2H99XSdA+VPhvAELMT+sy9PTH2+5icz8PWzoca/9Ca7bhzOIlyl48wHj4U8kkqVn2ZNzns8xWlalSxOTVyOvDvW5dB3bnbaDVJQBV53Xdbvl7MIPM57bPjL7+Oe+llaCS2dP15n8y54ejz1p7mR6UbyV+UpmI6UkePHfUQcPRsUJ6Z4mEmBr5+NJy3eRNyW4SxCzhk9Ao6kUsujBFN/9niK0/wVOgW+aGJ15HJZDh2rRza7NMFTgyrw1a7V+v1yHoHHpm/SN73E3PDlHEypSU2lFg8JDfxynZPjR4QnXqYTw9+LqY+WYeAn4tn5SYU3EbfEFPhJkMBzJJVaHiWY+rPHU5xSj3LOeJSyidWRy2U5NA3am12Z8Bl14Otd1+u4F87oCh83j79Lb9NlPbR0fvSiEzeCb6b98sPtF/V32XwkIscvpUR5foonzxfM8tlJLb3Jjts0nEWQwMtIGPjSau7PHk9xmp+PQFdNrI5cLsuh49+jml2b8BlVQ3XX1TruhTO6h5/OSHmucA6gx79/fJ724H58qOOSE0T4hGn/UkrwklcfrbiHL58dauVNVtwwnEXI6/NesVCNJKsysKk/ezzFaVZRztQNHKQ8soy1OjT2am52bUKpDLzuul7HvfDIA4+LFN4YmL7nop2xLbqDcwA9no43lJdGpgdelwieGuIX+YpSHj9fZRam/eqjzYGvnx1q5U3EbRkORp9X00Jo5UhELY8SFIFf85zXWcBUxxR4aeJ85HJZD40BzUOP5+kzKs/ahFLacwq87rpex73wyAN/8eQffp7ejsZbAOlnMlmPm+jf/UtqcHprmP2aO1qcg3hA+zOxhneb46ylHYrjxxGf5B90/vBFPIN769HmwO88u/ImsVa6LcNJz/+7qCJudpmJciS76nyUoAz8iue8Hg/h9P1zlo8U1k0sjyzL9aGPa/aOCYZXBF52Xa/jXnjkgf8tXv2k/qWkXbz45OLiFfT5p5FB/hl2PD0/r2hk7l/9k6e4aE67yPHxo8b0k9XYr3hNmnj583S0OfDls3e8J2q3YjjTjzXnH0bujiSBn4cWRwmKwK96Vk5RRw7TFHhpYnnkeqz1oY9rdm0SUgG+smTX9Truhcd+D586/eR3+LO52y/ilHz6Z/xtUfBvf8in6MUkXyKJRSNz/6L9ZR/zUX6VLs56/Pe3+A2W9OsiHw58+ewd75naLW3hcG6/SV8rr77OpeyOpFTLowRF4Pd4Fk5XF9MheZ8hTSyPXI1VD31UsyuTkApy4HXX9TruhUcY+JmGBkw3qHfi0PGveBIy757xS+y+OMmp/mg+qtmgauuD4MCv48Dv4sDfMw7848KBv2cc+MeFA3/POPCPCwfemHPDgTdD4cCboXDgzVA48GYoHHgzFA68GQoH3gyFA2+GwoE3QzFQ4G//7Z8+/+QkP8If4ONvmniMfRgl8Hmq0sRJAp//8GHTH3/TxGPswyCBx9/MvfjtP3M63vvl3fY//qaJx9iHMQJ/e3kx/6nbKbiKL674jnIGvwF5vzzCPowR+GkKipOx+Y+/aeTx9WGMwE8TpZjhGSLwcUfz0H93YB4J5xv4+a+EpoW//CZ9/8TcLfVnxqQ/1fk+TTMxfT7NgY/S4Uss/nXPbJIPJx9vwwk7dCC6vhA7AG6OO60Mvv18/4f8oTKviq/NgyMtC947pkSu5XtOVhJK8d0ufQID/dIMSyu92x110YqgrmG1Tzt9eEg2EPh4ZZQW4iF/zAomsZomDsqn892zp3EzWXw+zYGP0nmHKfQYeE7iFF7l7jTWcHEgur4Qx14+QycoP4smr5Ri4uBIy4L3jimBWjh3e/2eSYor/nwxTcMEpe6djjqOvLQiqGqoxP19eEjOP/DpnKWFq3xFirOTVzBBFqeuy6f1X2OXq3zS82lZPmBm51NgUgIYeN78Yz/5eBsN1zQQXV/AXHPz/hGWdHR40H4RE7G2f6RlwfNu+wMfm6KweDpiDK4vXqDQGMtvMa229E5HXbUiKGtY79NuHx6Ssw98nMGyn9jKSEwL0fLP82rEIU5MPAcneX5ahicN8Sj/nR74lOlESrjmgawPLIE5w+b96Yh/OZ/YIiZi7cBIM9hh3m1/4HGMaWJfEnG9ys+M7yVviqclpoVq1HUr5kf8u9qnlT48JOce+Pi3+qSUb3JClu/b+QQvq/nkzWmIhSU5PLHcJZ+776lPCi528+5VuJaB6PoCYjHvzwVs5RhnMVM+dWWkCRQ8P3EZ05O4Dfntn9PzphzGTc3f8wtoItKOC/i7Zy//E7tK72TUdSvmzVMNu32Kf0/yUTatnHvg46RMn5Ry85t0o/mr9POl5TqWTx9PTlAndnpe+QEtsRb3sGkq0PQ/Xh7GN/nQ81Ow+8wS+GUgOwOboO9sz3AiLHEhTB8iMIuZZW1tpEXB8cQZjgmkfE+Bzxt3RoRRRPJjBcOpejeNgQ91K6SGnT7FHit9eFDOPPApwDwVKTLpDP9DLKL/icOBxyWp+oCWOPAXXA3mwE/g421mGK62j3CpP0MnDTgPi4N9N80YXOyzHGFtpEXB8cSZeUzv33/3aap3vtOIF5hTI0A87U1s/SwPjftI72TUdSukhp0+nfCjbFo578DHKZ8nXs/88I85MHKVWibMzqvLDvl5cYdffEBL2hgXTdzScG715XCJeffilqYciK7P8Otu3kzDKWEpvzvv0kxrqyMNWPD8xGJMaTWPYwp8aPPbhyCHOWX2Om2fUjsdHIGvR123QmrY7dNqHx6Usw782iel5LOEU5XI54ApyKtxYuYdYiGfZ5wmnjt8dSAk+XxNZ35i3n0JV9tHuDDZ0+bpkZvDa2efeS0WdkcK6q9hCXysfjkHPozmN1dAVuK5b/KMYDis9E5GXbdi9sGTdvp0wo+yaeWsA4/rVd3P3PS4FGLTnCIkBAGOVSQgnharPKM8vyGmVYYE25h7Mvst4aoGousTU+6mzUUOsXV3n1jbP1JyMPB55DTKX8lXVSZx9X598b+ep0f8Nq/0TkZdt2JWMbKdPq324WE578Dnk4d+3vwmf3pA9Dx6nLTiM2PSSUzvw69/wEz9AS08aWVI0vlc+zCcIvDFQHbWybzGhel+iWFZfsRV77N3pFowdqsDHw+xH2rJF3s+fQIRj20cQjJJnkvv5gNPC1UrpIadPq314YE568DniLCfqb0vXsWpyz+FlM+MiaiAdH7TU/d/lA6vngx8PDWdSf14G5y/JVzlQHbWQfGCLvHy/84vIBEW+lb7pLW9Iw1tKXjebRlTjDeemvZDLTSITqQnAPzUKD05bWPNZe901PF1VrQi1KqGnT6t9OGhOevA48yxn7d/So1+lX8WGWv1Z8bgdzxe4RdV0w7pMrn2UTq8wE8nPyKBixR+vWT6eBsNVz0QWQe7ga8+i2byrfbJa/tGWhU878Yxvf86wj6JuZbphXs8Mwc/w5zyNcH0p0lF73YDX38uUFVD0PQxQA/K+Qb+7jzICbjT/NsPHpXTzhp+Chz4E+HAPw4c+BPhwD8OHPgT4cA/Dhz4E+HAPw5GDLwZGAfeDIUDb4bCgTdD4cCboXDgzVA48GYoHHgzFA68GQoH3gyFA2+GwoE3Q+HAm6Fw4M1QOPBmKBx4MxQOvBkKB94MhQNvhmI18LeYbyvPdJX/qHFeyCxr9XZjHj2rgX/95JMU+HfPvkyzUqXZOLmQWdbq7cY8ftYCf/P868sU+Kv0R+q3ly9/nheyvKzV2415/KwF/urlTynwN8/zFBGvn3w7LeSZB+fNb5el9GDMGbAS+Hd/+/Y2Bf7ds3yvcn3x1bSQH+bNb5al9GDMGbAb+BT2HHgG+fri99OCPNQbKv5qzAPDKAq7gb9+mj5QwoE3Zw6jKOwEPt+Y+5bGbJSdwF9fkMgzX5O+mRbyi9N589tlKT0YcwasvGgN8hUe7zfGvz9NC/ntx3nzz8tS3smYx8+BwMfFPq7g6fo9L+Sles0XeHNOHAp8BJqfplUsxP36vFYsGXMWrAd+L6/5qW3GnCfHBf7mud+QMWfNcYF/7den5rw58pbGmPPGgTdD4cCboXDgzVA48GYoHHgzFA68GQoH3gyFA2+GwoE3Q+HAm6Fw4M1QOPBmKBx4MxQOvBmK3cDfXl5cXOQ/bMIEBmnRswebjbAb+KsvU5BTzK+nP1etZwle1urtxjx+9tzSYFKCKfCePdhshZbA17MEe/Zgc8asBz5PODMHvp5Sz1PtmTNmz4vWfOnOL1oj9Ez0zkO9oYLzWRrzYDCKwvoV/ub5fJtypcFeHuoNFfQ05sFgFIU99/A3z/PUY1jyLY3ZDHsCv7z1EkvfVbMEe/Zgc8a0XOGR/ulrYFmrtxtzBuwEPs+md3sZV+3by7z09Me4aYlLeb6Qe/Zgc97sXuHzezP5ol0v5Vzn+/V5rVgy5izYc0uzj3FnD/7jOlTNuXBc4AeePZgBV6iac+G4wA88ezADrlA158KRtzTjwoArVM254MA3woArVM254MA3woArVM254MA3woArVM0JYMsFiq048I2wvQpVcwLYcoFiKw58I2yvQtWcALZcoNiKA98I26tQNSeALRcotuLAN8L2KlTNCWDLBYqtOPCNsL0KVXMC2HKBYisOfMF/rAKN7VUgmlPAlgsUW3HgC5hwARrbq0A0p4AtFyi24sAXMOECNLZXgWhOAVsuUGzFgS9gwgVobK8C0ZwCtlyg2IoDX8CEC9DYXgWiOQVsuUCxFQe+gAkXoLG9CkRzCthygWIru4FfZg9+P08OPMjswUy4AI3tVSCaU8CWCxRb2Q38MnvwPDlwPUvwslZvP3+YcAEa26tANKeALRcotrLnliZPRTBPDjzK7MFMuACN7VUgmlPAlgsUWzkQ+Hly4G9HmT2YCRegsb0KRHMK2HKBYivrgc8Tzswz6X01ylR7TLgAje1VIJpTwJYLFFvZ86I1XboZ5OuL308L8lBvqOB8lmcGEy5AY3sViOYUsOUCxV0YRWH9Cp9nD57z7MAHbK8C0ZwCtlyguAujKOy5h09zS/qWBkBjexWI5hSw5QLFVvYEPr31Mk8O/GZayC9O583bmz2YCRegsb0KRHMK2HKBYisHrvB4vzH+/WlayG8/zpu3N3swEy5AY3sViOYUsOUCxVZ2Ar/MHhz3KnEFT9fver7gem1DF3gH/nHDlgsUW9m9wi9zBufFHOdBZg9mwgVobK8C0ZwCtlyg2MqeW5p9bHv2YCZcgMb2KhDNKWDLBYqtHBf4jc8ezIQL0NheBaI5BWy5QLGV4wK/8dmDmXABGturQDSngC0XKLZy5C3NtmHCBWhsrwLRnAK2XKDYigNfwIQL0NheBaI5BWy5QLEVB76ACRegsb0KRHMK2HKBYisOfAETLkBjexWI5hSw5QLFVhz4AiZcgMb2KhDNKWDLBYqtOPAFTLgAje1VIJpTwJYLFFtx4AuYcAEa26tANKeALRcotuLAFzDhAjS2V4FoTgFbLlBsxYEvYMIFaGyvAtGcArZcoNiKA1/AhAvQ2F4FoukEW65AZMsFaM048AVsrwCN7VUgmk6w5QpEtlyA1owDX8D2CtDYXgWi6QRbrkBkywVozTjwBWyvAI3tVSCaTrDlCkS2XIDWjANfwPYK0NheBeIQsGKBYifYcgUiHQVozTjwBWyvAI3tVSAOASsWKHaCLVcg0lGA1sxu4PNETJ+lpfzHfnkiYc8e7MBvNvBXEfbrnPjr6c9V61mCl7V6+/nD9grQ2F4F4hCwYoFiJ9hyBSIdBWjN7LmluUrX9Tnwnj3Ygd944PMfa0+Br2cJ9uzBJRCHgBULFDvBlisQ6ShAa6blCl9Pqeep9kogDgErFih2gi1XINJRgNbMeuAxiV5+0RqhZ6J3HuoNFZzP8sxgewVobK8CcQhYsUCxE2y5ApGOArQVGEVhNfC3l8v0M1ca7OWh3lBBzzOD7RWgsb0KxCFgxQLFTrDlCkQ6CtBWYBSF1cBfFXflN88/8y1NwPYqEIeAFQsUO8GWKxDpKEBrZi3w1RuNt5cvv6tmCV7mDF6W0sMGYHsFaGyvAnEIWLFAsRNsuQKRjgK0ZlYC/zpNkToTV3i88Ti9/bis1ds3ANsrQGN7FYhDwIoFip1gyxWIdBSgNbMb+DwlcOL2Mi70+Xbeswc78JsNfP7NgiD/vDXIl+95luB8v77MGbwsbQK2V4DG9ioQh4AVCxQ7wZYrEOkoQGtm9UXrfjx7sABxCFixQLETbLkCkY4CtGaOC7xnD1YgDgErFih2gi1XINJRgNbMcYH37MEKxCFgxQLFTrDlCkQ6CtCaOfKWZtuwvQI0tleBOASsWKDYCbZcgUhHAVozDnwB2ytAY3sViEPAigWKnWDLFYh0FKA148AXsL0CNLZXgTgErFig2Am2XIFIRwFaMw58AdsrQGN7FYhDwIoFip1gyxWIdBSgNePAF7C9AjS2V4E4BKxYoNgJtlyBSEcBWjMOfAHbK0BjexWIQ8CKBYqdYMsViHQUoDXjwBewvQI0tleBOASsWKDYCbZcgUhHAVozDnwB2ytAY3sViEPAigWKnWDLFYh0FKA148AXsL0CNLZXgTgErFig2Am2XIFIRwFaMw58AdsrQGN7FYhDwIoFip1gyxWIdBSgNePAF7C9AjS2V4E4BKxYoNgJtlyBSEcBWjMOfAHbK0BjexWIQ8CKBYqdYMsViHQUoDXjwBewvQI0tleBOASsWKDYCbZcgUhHAVozDnwB2ytAY3sViFuBFSsQWbEArRc0VCDSUYDWjANfwPYK0NheBeJWYMUKRFYsQOsFDRWIdBSgNbMb+GX24Pfz5MCePdiB32zgl9mD58mB61mCl7V6+/nD9grQ2F4F4lZgxQpEVixA6wUNFYh0FKA1s+eWJs8tOU8O7NmDHfiNBz79sfY8OfC3nj3Ygd944NMVfp5J7ytPtefAbzvw+eacQb6++P20IA/1hg3A9grQ2F4F4lZgxQpEVixA6wUNFYh0FKA1sxp4zB485/kOgecErmcG2ytAY3sViFuBFSsQWbEArRc0VCDSUYC2AqMorAYeswd/zC0NPc8MtleAxvYqELcCK1YgsmIBWi9oqECkowBtBUZRWAs832jM9zXpNembaSG/OJ03e/bgAOJWYMUKRFYsQOsFDRWIdBSgNbMS+Gn2YLzfGP/+NC3ktx/nzZ49OIC4FVixApEVC9B6QUMFIh0FaM3sBn6ePRhL6fpdzxdcr23oAu/As2IFIisWoPWChgpEOgrQmtkJfDF7cAR6njTYswevA3ErsGIFIisWoPWChgpEOgrQmll90bofzx4sQNwKrFiByIoFaL2goQKRjgK0Zo4LvGcPViBuBVasQGTFArRe0FCBSEcBWjPHBd6zBysQtwIrViCyYgFaL2ioQKSjAK2ZI29ptg3bK0BjexWIW4EVKxBZsQCtFzRUINJRgNaMA1/A9grQ2F4F4lZgxQpEVixA6wUNFYh0FKA148AXsL0CNLZXgbgVWLECkRUL0HpBQwUiHQVozTjwBWyvAI3tVSBuBVasQGTFArRe0FCBSEcBWjMOfAHbK0BjexWIW4EVKxBZsQCtFzRUINJRgNaMA1/A9grQ2F4F4lZgxQpEVixA6wUNFYh0FKA148AXsL0CNLZXgbgVWLECkRUL0HpBQwUiHQVozTjwBWyvAI3tVSBuBVasQGTFArRe0FCBSEcBWjMOfAHbK0BjexWIW4EVKxBZsQCtFzRUINJRgNaMA1/A9grQ2F4F4lZgxQpEVixA6wUNFYh0FKA148AXsL0CNLZXgbgVWLECkRUL0HpBQwUiHQVozTjwBWyvAI3tVSBuBVasQGTFArRe0FCBSEcBWjMOfAHbK0BjexWIW4EVKxBZsQCtFzRUINJRgNaMA1/A9grQ2F4F4lZgxQpEVixA6wUNFYh0FKA148AXsL0CNLZXgbgVWLECkRUL0HpBQwUiHQVozawF/vYS0xakP+C7uEh/4+TZgx347QY+5RyBn/5ctZ4leFmrt58/bK8Aje1VIG4FVqxAZMUCtF7QUIFIRwFaM7uBjxRzaqU58J492IHfbuADCXw9S7BnDy6BuBVYsQKRFQvQekFDBSIdBWjNtAS+nlKvaaq984TtFaCxvQrErcCKFYisWIDWCxoqEOkoQGvmYODjZj5NOzOvykO9YQOwvQI0tleBuBVYsQKRFQvQekFDBSIdBWjNHAp85kqDvTzUGyo4n+WZwfYK0NheBeJWYMUKRFYsQOsFDRWIdBSgrcAoCh8M/M3zz+5wS0PPM4PtFaCxvQrErcCKFYisWIDWCxoqEOkoQFuBURQ+GPjby5ffVbMEL3MGL0vpYQOwvQI0tleBuBVYsQKRFQvQekFDBSIdBWjNtFzh8cbj9PbjslZv3wBsrwCN7VUgbgVWrEBkxQK0XtBQgUhHAVozBwJ/exn/5g8D8ezBDvx2A//uWXpz5iIu2/ldmnz5nmcJzl8K81qxtAnYXgEa26tA3AqsWIHIigVovaChApGOArRmVq/w+/HswQLErcCKFYisWIDWCxoqEOkoQGvmuMB79mAF4lZgxQpEVixA6wUNFYh0FKA1c1zgPXuwAnErsGIFIisWoPWChgpEOgrQmjnylmbbsL0CNLZXgbgVWLECkRUL0HpBQwUiHQVozTjwBWyvAI3tVSBuBVasQGTFArRe0FCBSEcBWjMOfAHbK0BjexWIW4EVKxBZsQCtFzRUINJRgNaMA1/A9grQ2F4F4lZgxQpEVixA6wUNFYh0FKA148AXsL0CNLZXgbgVWLECkRUL0HpBQwUiHQVozTjwBWyvAI3tVSBuBVasQGTFArRe0FCBSEcBWjMOfAHbK0BjexWIW4EVKxBZsQCtFzRUINJRgNaMA1/A9grQ2F4F4lZgxQpEVixA6wUNFYh0FKA148AXsL0CNLZXgbgVWLECkRUL0HpBQwUiHQVozTjwBWyvAI3tVSBuBVasQGTFArRe0FCBSEcBWjMOfAHbK0BjexWIW4EVKxBZsQCtFzRUINJRgNaMA1/A9grQ2F4F4lZgxQpEVixA6wUNFYh0FKA148AXsL0CNLZXgbgVWLECkRUL0HpBQwUiHQVozTjwBWyvAI3tVSBuBVasQGTFArRe0FCBSEcBWjMOfAHbK0BjexWIW4EVKxBZsQCtFzRUINJRgNbMWuCn2YPfz5MDe/ZgB367gU9/qJpDPE8OXM8SvKzV288ftleAxvYqELcCK1YgsmIBWi9oqECkowCtmd3AR4o5Tcc8ObBnD3bgtxv4AIGfJwf+1rMHO/ADBH6eSe+r46faO0/YXgEa26tA3AqsWIHIigVovaChApGOArRmDgSeQb6++P20IA/1hg3A9grQ2F4F4lZgxQpEVixA6wUNFYh0FKA1c0+B53yWZwbbK0BjexWIW4EVKxBZsQCtFzRUINJRgLYCoyjc0y0NPc8MtleAxvYqELcCK1YgsmIBWi9oqECkowBtBUZROBh4viZ9My3kF6fzZs8eHEDcCqxYgciKBWi9oKECkY4CtGYOBB7vN8a/P00L+e3HebNnDw4gbgVWrEBkxQK0XtBQgUhHAVozBwIfD3EFT9dvzx7swG838MvswRHoedJgzx68DsStwIoViKxYgNYLGioQ6ShAa2b1Cr8fzx4sQNwKrFiByIoFaL2goQKRjgK0Zo4LvGcPViBuBVasQGTFArRe0FCBSEcBWjPHBd6zBysQtwIrViCyYgFaL2ioQKSjAK2ZI29ptg3bK0BjexWIW4EVKxBZsQCtFzRUINJRgNaMA1/A9grQ2F4F4lZgxQpEVixA6wUNFYh0FKA148AXsL0CNLZXgbgVWLECkRUL0HpBQwUiHQVozTjwBWyvAI3tVSBuBVasQGTFArRe0FCBSEcBWjMOfAHbK0BjexWIW4EVKxBZsQCtFzRUINJRgNaMA1/A9grQ2F4F4lZgxQpEVixA6wUNFYh0FKA148AXsL0CNLZXgbgVWLECkRUL0HpBQwUiHQVozZxN4FmeQLETbK8AjYYKxK3AihWIrFiA1gsaKhDpKEBrxoEvYHsFaDRUIG4FVqxAZMUCtF7QUIFIRwFaMycO/N+sQ/UQLE+g2Am2V4BGQwXiVmDFCkRWLEDrBQ0ViHQUoDXjwBewvQI0GioQtwIrViCyYgFaL2ioQKSjAK0ZB76A7RWg0VCBuBVYsQKRFQvQekFDBSIdBWjNOPAFbK8AjYYKxK3AihWIrFiA1gsaKhDpKEBrxoEvYHsFaDRUIG4FVqxAZMUCtF7QUIFIRwFaMw58AdsrQKOhAnErsGIFIisWoPWChgpEOgrQmnHgC9heARoNFYhbgRUrEFmxAK0XNFQg0lGA1syhwKe/WL24yH/Ut2e+7KOny2bAFaqHYHkCxU6wvQI0GioQtwIrViCyYgFaL2ioQKSjAK2Zg4Gf/z67nhd7Xqs3t8CAKxBZnQDNgT8FrFiByIoFaL2goQKRjgK0ZtoCv2e+7OOny2bAFYisToDmwJ8CVqxAZMUCtF7QUIFIRwFaM02Br+fF3jONdhMMuAKR1QnQHPhTwIoViKxYgNYLGioQ6ShAa6Yp8PUkknvmnGyCAVcgsjoBmgN/ClixApEVC9B6QUMFIh0FaM188EVrCv08E1n9UM8qXMH5LHdgwBWIrE6A9oBTeUKjoQJxK7BiBSIrFqD1goYKRDoK0FZgFIVDgc9cRZwdeAd+mMDfPP/MtzQBDRWIW4EVKxBZsQCtFzRUINJRgNbMBwOf3oSp58We1+pptJtgwBWIrE6A5sCfAlasQGTFArRe0FCBSEcBWjNNV3i88zi9/ziv1dNoN8GAKxBZnQDNgT8FrFiByIoFaL2goQKRjgK0Zg4E/vYyblVuL9NPWuuJs+u1Yy7wDx94GioQ6ShAo6ECcSuwYgUiKxag9YKGCkQ6CtCaOXSFz+/S4PI9zYuN+/V5lux5oRXmS4HI6gRoDvwpYMUKRFYsQOsFDRWIdBSgNfPBW5qaj50um/lSILI6AZoDfwpYsQKRFQvQekFDBSIdBWjNHBf4j54um/lSILI6AZoDfwpYsQKRFQvQekFDBSIdBWjNHBf4j54um/lSILI6AZoDfwpYsQKRFQvQekFDBSIdBWjNHHlL87EwXwpEVidAc+BPAStWILJiAVovaKhApKMArRkHPgORjgI0GioQtwIrViCyYgFaL2ioQKSjAK0ZBz4DkY4CNBoqELcCK1YgsmIBWi9oqECkowCtGQc+A5GOAjQaKhC3AitWILJiAVovaKhApKMArRkHPgORjgI0GioQtwIrViCyYgFaL2ioQKSjAK0ZBz4DkY4CNBoqELcCK1YgsmIBWi9oqECkowCtGQc+A5GOAjQaKhC3AitWILJiAVovaKhApKMArRkHPgORjgI0GioQTwENFap9YMUKRBoK0HpBQwUiHQVozTjwGYh0FKDRUIF4CmioUO0DK1Yg0lCA1gsaKhDpKEBrxoHPQKSjAI2GCsRe0FGARkMFYidoqECkoQDtGNhyARoNFYh0FKA148BnINJRgEZDBWIv6ChAo6ECsRM0VCDSUIB2DGy5AI2GCkQ6CtCaceAzEOkoQKOhArEXdBSg0VCB2AkaKhBpKEA7BrZcgEZDBSIdBWjNOPAZiHQUoNFQgdgLOgrQaKhA7AQNFYg0FKAdA1suQKOhApGOArRmHPgMRDoK0GioQOwFHQVoNFQgdoKGCkQaCtCOgS0XoNFQgUhHAVozDnwGIh0FaDRUIPaCjgI0GioQO0FDBSINBWjHwJYL0GioQKSjAK2ZtsDvmTxYtjfA6hSIrE6AtpnA01CBSEcBGg0ViEdAQwEaDRWINBSgHQMdBWg0VCDSUYDWTFPg90weLNtbYHUKRFYnQHPgaahAPAIaCtBoqECkoQDtGOgoQKOhApGOArRmmgK/Z/Jg2d4Cq1MgsjoBmgNPQwXiEdBQgEZDBSINBWjHQEcBGg0ViHQUoDXTEvg9kwe/rbc3weoUiKxOgObA01CBeAQ0FKDRUIFIQwHaMdBRgEZDBSIdBWjNtAR+z0x7b+rtTbA6BSKrE6A58DRUIB4BDQVoNFQg0lCAdgx0FKDRUIFIRwFaMy2BZ6J3HuoNFZzP0pgHg1EUHHizURhF4cS3NMY8LG2BL1+cLmv1dmPOgJbA443H6e3HZa3ebswZ0BL4uGmJS3m+kKeles0XeHNONAU+kj1PFxz368ucwUfPHmzMw9IW+JmPnT3YmIfluMB/9OzBxjwsxwX+o2cPNuZhOfKWxpjzxoE3Q+HAm6Fw4M1QOPBmKBx4MxQOvBkKB94MxWMIvH/fMjP/2sbym6gjc08deNDAX118lh72lHaN30vjb913JP3K28VF828F9R1HmPPXM949S79sunAo8J178Tp3YPXXRA45LY07ekKiw6TxaAaqDmS/xEf/LtdDBv7m+as8/j2Bjy6kr4e69dcdfjkTf6J1VcdtP6vjuPNAIjSs9upiT+AT0pPOvci/0r0+odAhp9kwq0dNSHQQDKdqxgp9/rLuIQN//fRt/iPBfYF/8nlqxH0FvvmErY7j7oF/8vfY8+b5V/URDwa+by9ywm6e5++vwiGn2fD4CYkOsT6QHc4+8LeXn8V/eSF1Ln2/jLViSrMn36ZOoPVQby/Tt7Wm9hyAnats379++Z/xbTNZJZOUvVnZHcdHDOQaR4vDxpd7OmLc2eDu4PXT/48RpIHVg+vdiyLwswXLPuQ0Bf4OExId4uY5v3KKYb1++kPqwHJW0mDOPPDpb8BzifnkpnJSl28vn/6Isx1aknPrJ/UjrmoLU+eu4vzOB36dz3as5S/C688KZW0cdx5I7Jd8kw2PyMOGeRwyrc6BX9w69yId6/1V+mc+2FT2IafJsPdf7/O1HL1e/DpO/tXLn3Lgp7MS9LF7wMCnb+HsdTrB+LrOm9DY6Hv6ak9PWdS7n+SFqXNhsBw4ZyBdunj5qpTdcdx5ILFfzkt+nI6Y7xFwXmNpCnzh1rkX6UVifimxHIxlH3RKF3x8VXZMYCJezsyjef3HX75No8lf8vNZCc498Lmg/N0sLeGikRsb1adG52IjBKn1i3r3k7xQBH45cM5V6nh8A0/9LZS1cdx5ILFfrjyCjSPmk5k90gjSEsJe9aRzL3i4skqW/WGnq4MTEt2RdNcU9qkFX7y9epMMc5fmsxKce+BxqtP3VZzcdPXIb4ndPEd7U+vjC+K73PpJvftJXpg6F7cWy4GL1sZXXKWsjePOA0n7xRHTVWsJFbbuBn5269yLdLh071gWhLI/7BTX/2nQ/QLPs/7ub9/e/M8fX8eNFTqwqcDnb6tB+tY5Xc0yVy+eRak4K1Flei9jUe9+khfYudTH5cBla2Mz30BKrI7jzgNJ+0Xakx0Cr1d4vISRnnTuBQ+X7tBniyDK/vGDTjGy9NUQ5Kd2Iw0nGvPu1z+/+/VPl0jFlgKf68FD+p/3aUHUhdJyP28vX0R3C7VDk9m59D19OXAV+LD5dlHWxnHngeT9rp58EkYp7HTM9/D5iMU9fOHWuRf5cOlWvbBIxBE/6BS74dzh325k46uX/xi+v/w2buPz4TcU+Gn4ETuUltav01lOt9GpTgQgXihF2yc1h+Rj4ddTvmedDzy3Nq2kES3K2jjuPJCcHfw4Mx8iH5H/xMY0tuRe9SS0vr3A4dK7RfPB0v+57P1Ot5exms9N3wmJrlPr3z1Lqb5++n9S/ekHkujAdFaSlkbz0TxY4PN7c0EUmktLPU4v1fObZbl6NJQvpqimk8D3sO5OOtb8887pwEtr071WMaA947jrQHLgUTFilI6YHV7HrUJ+Rz6pVU/2jeHOvZhSHUcrD5YWDjmlVaynpfzELuTjJr/49pGO+jqZbS3wxjwEDrwZCgfeDIUDb4bCgTdD4cCboXDgzVA48GYoHHgzFA68GQoH3gyFA2+GwoE3Q+HAm6Fw4M1QOPBmKBx4MxQOvBkKB94MhQNvhsKBN0PhwJuhcODNUDjwZigceDMUDrwZCgfeDIUDb4bCgTdD4cCboXDgP4KrafroPN9znvAZs01zJuyD5A+U4XzVR+1bfCr1XXwHx4Fv5m9msH6NqdKv0sTpKW7XaVbzvcH7jxms5w8buL38smXfP85wQzw/z5XesK+pceCbYdqDvIqPrAA5ePhEjX3BY9qDvKqfn3RwX6Y94IYq8If3NTUOfDNMe5BXp48wSSB4KXStgV/2btiXaQ+4oQ78wX1NjQPfDNMepLX0WVQzDVdapj1Ia8XeDfsy7QE3+Ap/Zxz4Zpj2IK3laOXXjxHdHLz8KWnNgZ/1hn2Z9oAbqsAf3tfUOPDNMO1BWpuila/V+d2SHLk7BP7D+zLtATfMgf/wvqbGgW+GaQ/S2nRTgsAjbkFz4OWWJnGHwH94X1PjwDfDtAd5lS87JfBcqj/hOsG0B2kNn0qZadiXaQ+4YTfwe/c1NQ58M0x7kFfzp5zuBJ6XWF5wC5j2IK8ysWnpw/sy7QE37AZ+776mxoFvhmkPsJ4/PjeSVgX+/VWK4sqdBdMeYD0/7/0Vf/AE9u3LtAfcsBv4vfuaGgf+7txepteMKWJF8CKLQY7jYfLzYue77LsS+PZ9x8aBN0PhwJuhcODNUDjwZigceDMUDrwZCgfeDIUDb4bCgTdD4cCboXDgzVA48GYoHHgzFA68GQoH3gyFA2+GwoE3Q+HAm6Fw4M1QOPBmKBx4MxQOvBkKB94MRQ68MePwi//OBWO2z1//x38B/i9Emg4GGzEAAAAASUVORK5CYII=)"
      ],
      "metadata": {
        "id": "z-hLDjXEpIu1"
      }
    },
    {
      "cell_type": "markdown",
      "metadata": {
        "id": "9XQhDldiBXS-"
      },
      "source": [
        "# Подготовка датасета для донастройки модели"
      ]
    },
    {
      "cell_type": "markdown",
      "metadata": {
        "id": "EWlIn5YARVFx"
      },
      "source": [
        "Проведем донастройку слоя классификации для модели SwinT на собранном датасете, а затем выполним классификацию. Для этого разобъем весь датасет на часть для настройки (80% датасета или 40 изображений каждого класса) и часть для валидации (20% датасета или 10 изображений каждого класса)."
      ]
    },
    {
      "cell_type": "code",
      "execution_count": null,
      "metadata": {
        "id": "jbSVzMMkS7YQ"
      },
      "outputs": [],
      "source": [
        "%%writefile train.csv\n",
        "label;url\n",
        "коробка передач;https://github.com/Olgera/potential-happiness/blob/master/%D0%BA%D0%BE%D1%80%D0%BE%D0%B1%D0%BA%D0%B0%20%D0%BF%D0%B5%D1%80%D0%B5%D0%B4%D0%B0%D1%87/train/train.csv_image_1?raw=true\n",
        "коробка передач;https://github.com/Olgera/potential-happiness/blob/master/%D0%BA%D0%BE%D1%80%D0%BE%D0%B1%D0%BA%D0%B0%20%D0%BF%D0%B5%D1%80%D0%B5%D0%B4%D0%B0%D1%87/train/train.csv_image_2?raw=true\n",
        "коробка передач;https://github.com/Olgera/potential-happiness/blob/master/%D0%BA%D0%BE%D1%80%D0%BE%D0%B1%D0%BA%D0%B0%20%D0%BF%D0%B5%D1%80%D0%B5%D0%B4%D0%B0%D1%87/train/train.csv_image_3?raw=true\n",
        "коробка передач;https://github.com/Olgera/potential-happiness/blob/master/%D0%BA%D0%BE%D1%80%D0%BE%D0%B1%D0%BA%D0%B0%20%D0%BF%D0%B5%D1%80%D0%B5%D0%B4%D0%B0%D1%87/train/train.csv_image_4?raw=true\n",
        "коробка передач;https://github.com/Olgera/potential-happiness/blob/master/%D0%BA%D0%BE%D1%80%D0%BE%D0%B1%D0%BA%D0%B0%20%D0%BF%D0%B5%D1%80%D0%B5%D0%B4%D0%B0%D1%87/train/train.csv_image_5?raw=true\n",
        "коробка передач;https://github.com/Olgera/potential-happiness/blob/master/%D0%BA%D0%BE%D1%80%D0%BE%D0%B1%D0%BA%D0%B0%20%D0%BF%D0%B5%D1%80%D0%B5%D0%B4%D0%B0%D1%87/train/train.csv_image_6?raw=true\n",
        "коробка передач;https://github.com/Olgera/potential-happiness/blob/master/%D0%BA%D0%BE%D1%80%D0%BE%D0%B1%D0%BA%D0%B0%20%D0%BF%D0%B5%D1%80%D0%B5%D0%B4%D0%B0%D1%87/train/train.csv_image_7?raw=true\n",
        "коробка передач;https://github.com/Olgera/potential-happiness/blob/master/%D0%BA%D0%BE%D1%80%D0%BE%D0%B1%D0%BA%D0%B0%20%D0%BF%D0%B5%D1%80%D0%B5%D0%B4%D0%B0%D1%87/train/train.csv_image_8?raw=true\n",
        "коробка передач;https://github.com/Olgera/potential-happiness/blob/master/%D0%BA%D0%BE%D1%80%D0%BE%D0%B1%D0%BA%D0%B0%20%D0%BF%D0%B5%D1%80%D0%B5%D0%B4%D0%B0%D1%87/train/train.csv_image_9?raw=true\n",
        "коробка передач;https://github.com/Olgera/potential-happiness/blob/master/%D0%BA%D0%BE%D1%80%D0%BE%D0%B1%D0%BA%D0%B0%20%D0%BF%D0%B5%D1%80%D0%B5%D0%B4%D0%B0%D1%87/train/train.csv_image_10?raw=true\n",
        "коробка передач;https://github.com/Olgera/potential-happiness/blob/master/%D0%BA%D0%BE%D1%80%D0%BE%D0%B1%D0%BA%D0%B0%20%D0%BF%D0%B5%D1%80%D0%B5%D0%B4%D0%B0%D1%87/train/train.csv_image_11?raw=true\n",
        "коробка передач;https://github.com/Olgera/potential-happiness/blob/master/%D0%BA%D0%BE%D1%80%D0%BE%D0%B1%D0%BA%D0%B0%20%D0%BF%D0%B5%D1%80%D0%B5%D0%B4%D0%B0%D1%87/train/train.csv_image_12?raw=true\n",
        "коробка передач;https://github.com/Olgera/potential-happiness/blob/master/%D0%BA%D0%BE%D1%80%D0%BE%D0%B1%D0%BA%D0%B0%20%D0%BF%D0%B5%D1%80%D0%B5%D0%B4%D0%B0%D1%87/train/train.csv_image_13?raw=true\n",
        "коробка передач;https://github.com/Olgera/potential-happiness/blob/master/%D0%BA%D0%BE%D1%80%D0%BE%D0%B1%D0%BA%D0%B0%20%D0%BF%D0%B5%D1%80%D0%B5%D0%B4%D0%B0%D1%87/train/train.csv_image_14?raw=true\n",
        "коробка передач;https://github.com/Olgera/potential-happiness/blob/master/%D0%BA%D0%BE%D1%80%D0%BE%D0%B1%D0%BA%D0%B0%20%D0%BF%D0%B5%D1%80%D0%B5%D0%B4%D0%B0%D1%87/train/train.csv_image_15?raw=true\n",
        "коробка передач;https://github.com/Olgera/potential-happiness/blob/master/%D0%BA%D0%BE%D1%80%D0%BE%D0%B1%D0%BA%D0%B0%20%D0%BF%D0%B5%D1%80%D0%B5%D0%B4%D0%B0%D1%87/train/train.csv_image_16?raw=true\n",
        "коробка передач;https://github.com/Olgera/potential-happiness/blob/master/%D0%BA%D0%BE%D1%80%D0%BE%D0%B1%D0%BA%D0%B0%20%D0%BF%D0%B5%D1%80%D0%B5%D0%B4%D0%B0%D1%87/train/train.csv_image_17?raw=true\n",
        "коробка передач;https://github.com/Olgera/potential-happiness/blob/master/%D0%BA%D0%BE%D1%80%D0%BE%D0%B1%D0%BA%D0%B0%20%D0%BF%D0%B5%D1%80%D0%B5%D0%B4%D0%B0%D1%87/train/train.csv_image_18?raw=true\n",
        "коробка передач;https://github.com/Olgera/potential-happiness/blob/master/%D0%BA%D0%BE%D1%80%D0%BE%D0%B1%D0%BA%D0%B0%20%D0%BF%D0%B5%D1%80%D0%B5%D0%B4%D0%B0%D1%87/train/train.csv_image_19?raw=true\n",
        "коробка передач;https://github.com/Olgera/potential-happiness/blob/master/%D0%BA%D0%BE%D1%80%D0%BE%D0%B1%D0%BA%D0%B0%20%D0%BF%D0%B5%D1%80%D0%B5%D0%B4%D0%B0%D1%87/train/train.csv_image_20?raw=true\n",
        "коробка передач;https://github.com/Olgera/potential-happiness/blob/master/%D0%BA%D0%BE%D1%80%D0%BE%D0%B1%D0%BA%D0%B0%20%D0%BF%D0%B5%D1%80%D0%B5%D0%B4%D0%B0%D1%87/train/train.csv_image_21?raw=true\n",
        "коробка передач;https://github.com/Olgera/potential-happiness/blob/master/%D0%BA%D0%BE%D1%80%D0%BE%D0%B1%D0%BA%D0%B0%20%D0%BF%D0%B5%D1%80%D0%B5%D0%B4%D0%B0%D1%87/train/train.csv_image_22?raw=true\n",
        "коробка передач;https://github.com/Olgera/potential-happiness/blob/master/%D0%BA%D0%BE%D1%80%D0%BE%D0%B1%D0%BA%D0%B0%20%D0%BF%D0%B5%D1%80%D0%B5%D0%B4%D0%B0%D1%87/train/train.csv_image_23?raw=true\n",
        "коробка передач;https://github.com/Olgera/potential-happiness/blob/master/%D0%BA%D0%BE%D1%80%D0%BE%D0%B1%D0%BA%D0%B0%20%D0%BF%D0%B5%D1%80%D0%B5%D0%B4%D0%B0%D1%87/train/train.csv_image_24?raw=true\n",
        "коробка передач;https://github.com/Olgera/potential-happiness/blob/master/%D0%BA%D0%BE%D1%80%D0%BE%D0%B1%D0%BA%D0%B0%20%D0%BF%D0%B5%D1%80%D0%B5%D0%B4%D0%B0%D1%87/train/train.csv_image_25?raw=true\n",
        "коробка передач;https://github.com/Olgera/potential-happiness/blob/master/%D0%BA%D0%BE%D1%80%D0%BE%D0%B1%D0%BA%D0%B0%20%D0%BF%D0%B5%D1%80%D0%B5%D0%B4%D0%B0%D1%87/train/train.csv_image_26?raw=true\n",
        "коробка передач;https://github.com/Olgera/potential-happiness/blob/master/%D0%BA%D0%BE%D1%80%D0%BE%D0%B1%D0%BA%D0%B0%20%D0%BF%D0%B5%D1%80%D0%B5%D0%B4%D0%B0%D1%87/train/train.csv_image_27?raw=true\n",
        "коробка передач;https://github.com/Olgera/potential-happiness/blob/master/%D0%BA%D0%BE%D1%80%D0%BE%D0%B1%D0%BA%D0%B0%20%D0%BF%D0%B5%D1%80%D0%B5%D0%B4%D0%B0%D1%87/train/train.csv_image_28?raw=true\n",
        "коробка передач;https://github.com/Olgera/potential-happiness/blob/master/%D0%BA%D0%BE%D1%80%D0%BE%D0%B1%D0%BA%D0%B0%20%D0%BF%D0%B5%D1%80%D0%B5%D0%B4%D0%B0%D1%87/train/train.csv_image_29?raw=true\n",
        "коробка передач;https://github.com/Olgera/potential-happiness/blob/master/%D0%BA%D0%BE%D1%80%D0%BE%D0%B1%D0%BA%D0%B0%20%D0%BF%D0%B5%D1%80%D0%B5%D0%B4%D0%B0%D1%87/train/train.csv_image_30?raw=true\n",
        "коробка передач;https://github.com/Olgera/potential-happiness/blob/master/%D0%BA%D0%BE%D1%80%D0%BE%D0%B1%D0%BA%D0%B0%20%D0%BF%D0%B5%D1%80%D0%B5%D0%B4%D0%B0%D1%87/train/train.csv_image_31?raw=true\n",
        "коробка передач;https://github.com/Olgera/potential-happiness/blob/master/%D0%BA%D0%BE%D1%80%D0%BE%D0%B1%D0%BA%D0%B0%20%D0%BF%D0%B5%D1%80%D0%B5%D0%B4%D0%B0%D1%87/train/train.csv_image_32?raw=true\n",
        "коробка передач;https://github.com/Olgera/potential-happiness/blob/master/%D0%BA%D0%BE%D1%80%D0%BE%D0%B1%D0%BA%D0%B0%20%D0%BF%D0%B5%D1%80%D0%B5%D0%B4%D0%B0%D1%87/train/train.csv_image_33?raw=true\n",
        "коробка передач;https://github.com/Olgera/potential-happiness/blob/master/%D0%BA%D0%BE%D1%80%D0%BE%D0%B1%D0%BA%D0%B0%20%D0%BF%D0%B5%D1%80%D0%B5%D0%B4%D0%B0%D1%87/train/train.csv_image_34?raw=true\n",
        "коробка передач;https://github.com/Olgera/potential-happiness/blob/master/%D0%BA%D0%BE%D1%80%D0%BE%D0%B1%D0%BA%D0%B0%20%D0%BF%D0%B5%D1%80%D0%B5%D0%B4%D0%B0%D1%87/train/train.csv_image_35?raw=true\n",
        "коробка передач;https://github.com/Olgera/potential-happiness/blob/master/%D0%BA%D0%BE%D1%80%D0%BE%D0%B1%D0%BA%D0%B0%20%D0%BF%D0%B5%D1%80%D0%B5%D0%B4%D0%B0%D1%87/train/train.csv_image_36?raw=true\n",
        "коробка передач;https://github.com/Olgera/potential-happiness/blob/master/%D0%BA%D0%BE%D1%80%D0%BE%D0%B1%D0%BA%D0%B0%20%D0%BF%D0%B5%D1%80%D0%B5%D0%B4%D0%B0%D1%87/train/train.csv_image_37?raw=true\n",
        "коробка передач;https://github.com/Olgera/potential-happiness/blob/master/%D0%BA%D0%BE%D1%80%D0%BE%D0%B1%D0%BA%D0%B0%20%D0%BF%D0%B5%D1%80%D0%B5%D0%B4%D0%B0%D1%87/train/train.csv_image_38?raw=true\n",
        "коробка передач;https://github.com/Olgera/potential-happiness/blob/master/%D0%BA%D0%BE%D1%80%D0%BE%D0%B1%D0%BA%D0%B0%20%D0%BF%D0%B5%D1%80%D0%B5%D0%B4%D0%B0%D1%87/train/train.csv_image_39?raw=true\n",
        "коробка передач;https://github.com/Olgera/potential-happiness/blob/master/%D0%BA%D0%BE%D1%80%D0%BE%D0%B1%D0%BA%D0%B0%20%D0%BF%D0%B5%D1%80%D0%B5%D0%B4%D0%B0%D1%87/train/train.csv_image_40?raw=true\n",
        "ротор турбины;https://github.com/Olgera/potential-happiness/blob/master/%D1%80%D0%BE%D1%82%D0%BE%D1%80%20%D1%82%D1%83%D1%80%D0%B1%D0%B8%D0%BD%D1%8B/train/train.csv_image_1?raw=true\n",
        "ротор турбины;https://github.com/Olgera/potential-happiness/blob/master/%D1%80%D0%BE%D1%82%D0%BE%D1%80%20%D1%82%D1%83%D1%80%D0%B1%D0%B8%D0%BD%D1%8B/train/train.csv_image_2?raw=true\n",
        "ротор турбины;https://github.com/Olgera/potential-happiness/blob/master/%D1%80%D0%BE%D1%82%D0%BE%D1%80%20%D1%82%D1%83%D1%80%D0%B1%D0%B8%D0%BD%D1%8B/train/train.csv_image_3?raw=true\n",
        "ротор турбины;https://github.com/Olgera/potential-happiness/blob/master/%D1%80%D0%BE%D1%82%D0%BE%D1%80%20%D1%82%D1%83%D1%80%D0%B1%D0%B8%D0%BD%D1%8B/train/train.csv_image_4?raw=true\n",
        "ротор турбины;https://github.com/Olgera/potential-happiness/blob/master/%D1%80%D0%BE%D1%82%D0%BE%D1%80%20%D1%82%D1%83%D1%80%D0%B1%D0%B8%D0%BD%D1%8B/train/train.csv_image_5?raw=true\n",
        "ротор турбины;https://github.com/Olgera/potential-happiness/blob/master/%D1%80%D0%BE%D1%82%D0%BE%D1%80%20%D1%82%D1%83%D1%80%D0%B1%D0%B8%D0%BD%D1%8B/train/train.csv_image_6?raw=true\n",
        "ротор турбины;https://github.com/Olgera/potential-happiness/blob/master/%D1%80%D0%BE%D1%82%D0%BE%D1%80%20%D1%82%D1%83%D1%80%D0%B1%D0%B8%D0%BD%D1%8B/train/train.csv_image_7?raw=true\n",
        "ротор турбины;https://github.com/Olgera/potential-happiness/blob/master/%D1%80%D0%BE%D1%82%D0%BE%D1%80%20%D1%82%D1%83%D1%80%D0%B1%D0%B8%D0%BD%D1%8B/train/train.csv_image_8?raw=true\n",
        "ротор турбины;https://github.com/Olgera/potential-happiness/blob/master/%D1%80%D0%BE%D1%82%D0%BE%D1%80%20%D1%82%D1%83%D1%80%D0%B1%D0%B8%D0%BD%D1%8B/train/train.csv_image_9?raw=true\n",
        "ротор турбины;https://github.com/Olgera/potential-happiness/blob/master/%D1%80%D0%BE%D1%82%D0%BE%D1%80%20%D1%82%D1%83%D1%80%D0%B1%D0%B8%D0%BD%D1%8B/train/train.csv_image_10?raw=true\n",
        "ротор турбины;https://github.com/Olgera/potential-happiness/blob/master/%D1%80%D0%BE%D1%82%D0%BE%D1%80%20%D1%82%D1%83%D1%80%D0%B1%D0%B8%D0%BD%D1%8B/train/train.csv_image_11?raw=true\n",
        "ротор турбины;https://github.com/Olgera/potential-happiness/blob/master/%D1%80%D0%BE%D1%82%D0%BE%D1%80%20%D1%82%D1%83%D1%80%D0%B1%D0%B8%D0%BD%D1%8B/train/train.csv_image_12?raw=true\n",
        "ротор турбины;https://github.com/Olgera/potential-happiness/blob/master/%D1%80%D0%BE%D1%82%D0%BE%D1%80%20%D1%82%D1%83%D1%80%D0%B1%D0%B8%D0%BD%D1%8B/train/train.csv_image_13?raw=true\n",
        "ротор турбины;https://github.com/Olgera/potential-happiness/blob/master/%D1%80%D0%BE%D1%82%D0%BE%D1%80%20%D1%82%D1%83%D1%80%D0%B1%D0%B8%D0%BD%D1%8B/train/train.csv_image_14?raw=true\n",
        "ротор турбины;https://github.com/Olgera/potential-happiness/blob/master/%D1%80%D0%BE%D1%82%D0%BE%D1%80%20%D1%82%D1%83%D1%80%D0%B1%D0%B8%D0%BD%D1%8B/train/train.csv_image_15?raw=true\n",
        "ротор турбины;https://github.com/Olgera/potential-happiness/blob/master/%D1%80%D0%BE%D1%82%D0%BE%D1%80%20%D1%82%D1%83%D1%80%D0%B1%D0%B8%D0%BD%D1%8B/train/train.csv_image_16?raw=true\n",
        "ротор турбины;https://github.com/Olgera/potential-happiness/blob/master/%D1%80%D0%BE%D1%82%D0%BE%D1%80%20%D1%82%D1%83%D1%80%D0%B1%D0%B8%D0%BD%D1%8B/train/train.csv_image_17?raw=true\n",
        "ротор турбины;https://github.com/Olgera/potential-happiness/blob/master/%D1%80%D0%BE%D1%82%D0%BE%D1%80%20%D1%82%D1%83%D1%80%D0%B1%D0%B8%D0%BD%D1%8B/train/train.csv_image_18?raw=true\n",
        "ротор турбины;https://github.com/Olgera/potential-happiness/blob/master/%D1%80%D0%BE%D1%82%D0%BE%D1%80%20%D1%82%D1%83%D1%80%D0%B1%D0%B8%D0%BD%D1%8B/train/train.csv_image_19?raw=true\n",
        "ротор турбины;https://github.com/Olgera/potential-happiness/blob/master/%D1%80%D0%BE%D1%82%D0%BE%D1%80%20%D1%82%D1%83%D1%80%D0%B1%D0%B8%D0%BD%D1%8B/train/train.csv_image_20?raw=true\n",
        "ротор турбины;https://github.com/Olgera/potential-happiness/blob/master/%D1%80%D0%BE%D1%82%D0%BE%D1%80%20%D1%82%D1%83%D1%80%D0%B1%D0%B8%D0%BD%D1%8B/train/train.csv_image_21?raw=true\n",
        "ротор турбины;https://github.com/Olgera/potential-happiness/blob/master/%D1%80%D0%BE%D1%82%D0%BE%D1%80%20%D1%82%D1%83%D1%80%D0%B1%D0%B8%D0%BD%D1%8B/train/train.csv_image_22?raw=true\n",
        "ротор турбины;https://github.com/Olgera/potential-happiness/blob/master/%D1%80%D0%BE%D1%82%D0%BE%D1%80%20%D1%82%D1%83%D1%80%D0%B1%D0%B8%D0%BD%D1%8B/train/train.csv_image_23?raw=true\n",
        "ротор турбины;https://github.com/Olgera/potential-happiness/blob/master/%D1%80%D0%BE%D1%82%D0%BE%D1%80%20%D1%82%D1%83%D1%80%D0%B1%D0%B8%D0%BD%D1%8B/train/train.csv_image_24?raw=true\n",
        "ротор турбины;https://github.com/Olgera/potential-happiness/blob/master/%D1%80%D0%BE%D1%82%D0%BE%D1%80%20%D1%82%D1%83%D1%80%D0%B1%D0%B8%D0%BD%D1%8B/train/train.csv_image_25?raw=true\n",
        "ротор турбины;https://github.com/Olgera/potential-happiness/blob/master/%D1%80%D0%BE%D1%82%D0%BE%D1%80%20%D1%82%D1%83%D1%80%D0%B1%D0%B8%D0%BD%D1%8B/train/train.csv_image_26?raw=true\n",
        "ротор турбины;https://github.com/Olgera/potential-happiness/blob/master/%D1%80%D0%BE%D1%82%D0%BE%D1%80%20%D1%82%D1%83%D1%80%D0%B1%D0%B8%D0%BD%D1%8B/train/train.csv_image_27?raw=true\n",
        "ротор турбины;https://github.com/Olgera/potential-happiness/blob/master/%D1%80%D0%BE%D1%82%D0%BE%D1%80%20%D1%82%D1%83%D1%80%D0%B1%D0%B8%D0%BD%D1%8B/train/train.csv_image_28?raw=true\n",
        "ротор турбины;https://github.com/Olgera/potential-happiness/blob/master/%D1%80%D0%BE%D1%82%D0%BE%D1%80%20%D1%82%D1%83%D1%80%D0%B1%D0%B8%D0%BD%D1%8B/train/train.csv_image_29?raw=true\n",
        "ротор турбины;https://github.com/Olgera/potential-happiness/blob/master/%D1%80%D0%BE%D1%82%D0%BE%D1%80%20%D1%82%D1%83%D1%80%D0%B1%D0%B8%D0%BD%D1%8B/train/train.csv_image_30?raw=true\n",
        "ротор турбины;https://github.com/Olgera/potential-happiness/blob/master/%D1%80%D0%BE%D1%82%D0%BE%D1%80%20%D1%82%D1%83%D1%80%D0%B1%D0%B8%D0%BD%D1%8B/train/train.csv_image_31?raw=true\n",
        "ротор турбины;https://github.com/Olgera/potential-happiness/blob/master/%D1%80%D0%BE%D1%82%D0%BE%D1%80%20%D1%82%D1%83%D1%80%D0%B1%D0%B8%D0%BD%D1%8B/train/train.csv_image_32?raw=true\n",
        "ротор турбины;https://github.com/Olgera/potential-happiness/blob/master/%D1%80%D0%BE%D1%82%D0%BE%D1%80%20%D1%82%D1%83%D1%80%D0%B1%D0%B8%D0%BD%D1%8B/train/train.csv_image_33?raw=true\n",
        "ротор турбины;https://github.com/Olgera/potential-happiness/blob/master/%D1%80%D0%BE%D1%82%D0%BE%D1%80%20%D1%82%D1%83%D1%80%D0%B1%D0%B8%D0%BD%D1%8B/train/train.csv_image_34?raw=true\n",
        "ротор турбины;https://github.com/Olgera/potential-happiness/blob/master/%D1%80%D0%BE%D1%82%D0%BE%D1%80%20%D1%82%D1%83%D1%80%D0%B1%D0%B8%D0%BD%D1%8B/train/train.csv_image_35?raw=true\n",
        "ротор турбины;https://github.com/Olgera/potential-happiness/blob/master/%D1%80%D0%BE%D1%82%D0%BE%D1%80%20%D1%82%D1%83%D1%80%D0%B1%D0%B8%D0%BD%D1%8B/train/train.csv_image_36?raw=true\n",
        "ротор турбины;https://github.com/Olgera/potential-happiness/blob/master/%D1%80%D0%BE%D1%82%D0%BE%D1%80%20%D1%82%D1%83%D1%80%D0%B1%D0%B8%D0%BD%D1%8B/train/train.csv_image_37?raw=true\n",
        "ротор турбины;https://github.com/Olgera/potential-happiness/blob/master/%D1%80%D0%BE%D1%82%D0%BE%D1%80%20%D1%82%D1%83%D1%80%D0%B1%D0%B8%D0%BD%D1%8B/train/train.csv_image_38?raw=true\n",
        "ротор турбины;https://github.com/Olgera/potential-happiness/blob/master/%D1%80%D0%BE%D1%82%D0%BE%D1%80%20%D1%82%D1%83%D1%80%D0%B1%D0%B8%D0%BD%D1%8B/train/train.csv_image_39?raw=true\n",
        "ротор турбины;https://github.com/Olgera/potential-happiness/blob/master/%D1%80%D0%BE%D1%82%D0%BE%D1%80%20%D1%82%D1%83%D1%80%D0%B1%D0%B8%D0%BD%D1%8B/train/train.csv_image_40?raw=true"
      ]
    },
    {
      "cell_type": "code",
      "execution_count": null,
      "metadata": {
        "id": "x_lVTiTIWNfh"
      },
      "outputs": [],
      "source": [
        "%%writefile test.csv\n",
        "label;url\n",
        "коробка передач;https://github.com/Olgera/potential-happiness/blob/master/%D0%BA%D0%BE%D1%80%D0%BE%D0%B1%D0%BA%D0%B0%20%D0%BF%D0%B5%D1%80%D0%B5%D0%B4%D0%B0%D1%87/test/test.csv_image_1?raw=true\n",
        "коробка передач;https://github.com/Olgera/potential-happiness/blob/master/%D0%BA%D0%BE%D1%80%D0%BE%D0%B1%D0%BA%D0%B0%20%D0%BF%D0%B5%D1%80%D0%B5%D0%B4%D0%B0%D1%87/test/test.csv_image_2?raw=true\n",
        "коробка передач;https://github.com/Olgera/potential-happiness/blob/master/%D0%BA%D0%BE%D1%80%D0%BE%D0%B1%D0%BA%D0%B0%20%D0%BF%D0%B5%D1%80%D0%B5%D0%B4%D0%B0%D1%87/test/test.csv_image_3?raw=true\n",
        "коробка передач;https://github.com/Olgera/potential-happiness/blob/master/%D0%BA%D0%BE%D1%80%D0%BE%D0%B1%D0%BA%D0%B0%20%D0%BF%D0%B5%D1%80%D0%B5%D0%B4%D0%B0%D1%87/test/test.csv_image_4?raw=true\n",
        "коробка передач;https://github.com/Olgera/potential-happiness/blob/master/%D0%BA%D0%BE%D1%80%D0%BE%D0%B1%D0%BA%D0%B0%20%D0%BF%D0%B5%D1%80%D0%B5%D0%B4%D0%B0%D1%87/test/test.csv_image_5?raw=true\n",
        "коробка передач;https://github.com/Olgera/potential-happiness/blob/master/%D0%BA%D0%BE%D1%80%D0%BE%D0%B1%D0%BA%D0%B0%20%D0%BF%D0%B5%D1%80%D0%B5%D0%B4%D0%B0%D1%87/test/test.csv_image_6?raw=true\n",
        "коробка передач;https://github.com/Olgera/potential-happiness/blob/master/%D0%BA%D0%BE%D1%80%D0%BE%D0%B1%D0%BA%D0%B0%20%D0%BF%D0%B5%D1%80%D0%B5%D0%B4%D0%B0%D1%87/test/test.csv_image_7?raw=true\n",
        "коробка передач;https://github.com/Olgera/potential-happiness/blob/master/%D0%BA%D0%BE%D1%80%D0%BE%D0%B1%D0%BA%D0%B0%20%D0%BF%D0%B5%D1%80%D0%B5%D0%B4%D0%B0%D1%87/test/test.csv_image_8?raw=true\n",
        "коробка передач;https://github.com/Olgera/potential-happiness/blob/master/%D0%BA%D0%BE%D1%80%D0%BE%D0%B1%D0%BA%D0%B0%20%D0%BF%D0%B5%D1%80%D0%B5%D0%B4%D0%B0%D1%87/test/test.csv_image_9?raw=true\n",
        "коробка передач;https://github.com/Olgera/potential-happiness/blob/master/%D0%BA%D0%BE%D1%80%D0%BE%D0%B1%D0%BA%D0%B0%20%D0%BF%D0%B5%D1%80%D0%B5%D0%B4%D0%B0%D1%87/test/test.csv_image_10?raw=true\n",
        "ротор турбины;https://github.com/Olgera/potential-happiness/blob/master/%D1%80%D0%BE%D1%82%D0%BE%D1%80%20%D1%82%D1%83%D1%80%D0%B1%D0%B8%D0%BD%D1%8B/test/test.csv_image_1?raw=true\n",
        "ротор турбины;https://github.com/Olgera/potential-happiness/blob/master/%D1%80%D0%BE%D1%82%D0%BE%D1%80%20%D1%82%D1%83%D1%80%D0%B1%D0%B8%D0%BD%D1%8B/test/test.csv_image_2?raw=true\n",
        "ротор турбины;https://github.com/Olgera/potential-happiness/blob/master/%D1%80%D0%BE%D1%82%D0%BE%D1%80%20%D1%82%D1%83%D1%80%D0%B1%D0%B8%D0%BD%D1%8B/test/test.csv_image_3?raw=true\n",
        "ротор турбины;https://github.com/Olgera/potential-happiness/blob/master/%D1%80%D0%BE%D1%82%D0%BE%D1%80%20%D1%82%D1%83%D1%80%D0%B1%D0%B8%D0%BD%D1%8B/test/test.csv_image_4?raw=true\n",
        "ротор турбины;https://github.com/Olgera/potential-happiness/blob/master/%D1%80%D0%BE%D1%82%D0%BE%D1%80%20%D1%82%D1%83%D1%80%D0%B1%D0%B8%D0%BD%D1%8B/test/test.csv_image_5?raw=true\n",
        "ротор турбины;https://github.com/Olgera/potential-happiness/blob/master/%D1%80%D0%BE%D1%82%D0%BE%D1%80%20%D1%82%D1%83%D1%80%D0%B1%D0%B8%D0%BD%D1%8B/test/test.csv_image_6?raw=true\n",
        "ротор турбины;https://github.com/Olgera/potential-happiness/blob/master/%D1%80%D0%BE%D1%82%D0%BE%D1%80%20%D1%82%D1%83%D1%80%D0%B1%D0%B8%D0%BD%D1%8B/test/test.csv_image_7?raw=true\n",
        "ротор турбины;https://github.com/Olgera/potential-happiness/blob/master/%D1%80%D0%BE%D1%82%D0%BE%D1%80%20%D1%82%D1%83%D1%80%D0%B1%D0%B8%D0%BD%D1%8B/test/test.csv_image_8?raw=true\n",
        "ротор турбины;https://github.com/Olgera/potential-happiness/blob/master/%D1%80%D0%BE%D1%82%D0%BE%D1%80%20%D1%82%D1%83%D1%80%D0%B1%D0%B8%D0%BD%D1%8B/test/test.csv_image_9?raw=true\n",
        "ротор турбины;https://github.com/Olgera/potential-happiness/blob/master/%D1%80%D0%BE%D1%82%D0%BE%D1%80%20%D1%82%D1%83%D1%80%D0%B1%D0%B8%D0%BD%D1%8B/test/test.csv_image_10?raw=true"
      ]
    },
    {
      "cell_type": "markdown",
      "metadata": {
        "id": "27kWK_w9cO_X"
      },
      "source": [
        "Датасет в библиогтеки PyTorch представлен базовым классом Dataset, описывающий способ загрузки и трансформации набора данных по запросу.\n",
        "Начнем с описания процесса \"подгрузки\" изображений по url и лэйблу из CSV-файла с описанием датасета."
      ]
    },
    {
      "cell_type": "markdown",
      "metadata": {
        "id": "nydTTJ3cjd0g"
      },
      "source": [
        "После подготовки класса со сценарием загрузки изображений, его можно проверить путем визуализации с помощью библиотеки Matplotlib."
      ]
    },
    {
      "cell_type": "code",
      "execution_count": null,
      "metadata": {
        "id": "8UfDeBXAjdSp"
      },
      "outputs": [],
      "source": [
        "transform = model['preprocess']\n",
        "train = UrlDataset(\"train.csv\", device, transform)\n",
        "test = UrlDataset('test.csv', device, transform)\n",
        "simple = UrlDataset(\"simple.csv\", device, transform)\n",
        "num_per_row = 5\n",
        "single_size = 3.5\n",
        "vspace = 0.3\n",
        "\n",
        "print('-'*70)\n",
        "print(f'Model: { model[\"model\"].__class__.__name__}')\n",
        "print(f'Number of parameters: {sum(item.numel() for item in model[\"model\"].parameters())}')\n",
        "\n",
        "print('-'*30  + ' Train dataset ' + '-'*30)\n",
        "classify(train, denormalize(train, transform), num_per_row=num_per_row, single_size=single_size, vspace=vspace,\n",
        "            labels = train.classes, model=model['model'], model_labels=model['weights'].meta[\"categories\"])\n",
        "print('-'*30  + ' Test dataset ' + '-'*30)\n",
        "classify(test, denormalize(test, transform), num_per_row=num_per_row, single_size=single_size, vspace=vspace,\n",
        "            labels = test.classes, model=model['model'], model_labels=model['weights'].meta[\"categories\"])"
      ]
    },
    {
      "cell_type": "markdown",
      "metadata": {
        "id": "C8B_XLUhin1a"
      },
      "source": [
        "Как видно из результата, зачастую стандартный набор классов известных датасетов не покрывает нужные в специфических задачах. Тем не менее есть эффективный способ донастройки модели, который на практике позволяет с одной стороны воспользоваться результатом оптимизации предобученных моделей, с другой - адаптировать их под специфические задачи."
      ]
    },
    {
      "cell_type": "markdown",
      "metadata": {
        "id": "qfZm_F4QUhRS"
      },
      "source": [
        "# Предобученная нейронная сеть как генератор признаков\n",
        "\n",
        "\n"
      ]
    },
    {
      "cell_type": "markdown",
      "metadata": {
        "id": "D-BoS_EKIWVJ"
      },
      "source": [
        "Наиболее простой способ адаптации предобученных моделей к специфической задаче это переобучение выходного классификатора, который вычисляет принадлежность изображения к тому или иному классу. Это возможно благодаря особенности глубоких нейронных сетей, состоящей в том, что по мере преобразования между слоями происходит постепенный переход от конкретного изображения как набора пикселей к более обощённому представлению (пространство признаков), инвариантных к второстепенной информации (фон, повороты, растяжения, освещенность и т.д.). Таким образом, выходной слой лишь использует обобщённое пространство признаков для разделения на области, относящиеся к разным классам объектов. И если цель состоит в создании иного разбиения, то достаточно заменить выходной слой на новый классификатор, настроив его на распознавание нужных классов объктов.\n",
        "\n",
        "Популярным способом разбиения пространства признаков в случае существенно отличающихся классов является использование линейной гиперповерхности (линейный классификатор). Его преимуществом является простота и как следствие эффективность на небольших выборках. Основной недостаток - невозможность реализации сложных разбиений между близкими классами объектов. Для визуальной проверки возможности применения линейного классификатора в конкретной задаче можно использовать метод редукции многомерного пространства признаков, полученных на выходе предпоследнего слоя предобученной модели.\n",
        "\n",
        "В моделях библиотеки PyTorch для этого с учетом фиксированной последовательности слоев (специфика библиотеки) необходимо отключить слой классификации, заменив его на единичное преобразование. В таком виде модель нейросети будет играть роль генератора признаков.\n",
        "\n",
        "\n"
      ]
    },
    {
      "cell_type": "markdown",
      "metadata": {
        "id": "DifaTqi7m_yS"
      },
      "source": [
        "В первую очередь рассмотрим структуру модели и найдем в ней выходной классификатор"
      ]
    },
    {
      "cell_type": "code",
      "execution_count": null,
      "metadata": {
        "id": "Xrp-tPj4qy1v"
      },
      "outputs": [],
      "source": [
        "print(model)"
      ]
    },
    {
      "cell_type": "markdown",
      "metadata": {
        "id": "GMyD_ZBLmlib"
      },
      "source": [
        "Выходной слой это classifier (зачастую это даже не один слой, а группа слоев, наделяющих классификатор нужными свойствами).\n",
        "Уберем его, чтобы получить на выходе набор признаков. Для этого заменим выходной классификатор на единичное преобразование."
      ]
    },
    {
      "cell_type": "code",
      "execution_count": null,
      "metadata": {
        "id": "HWbzfy4zIVnp"
      },
      "outputs": [],
      "source": [
        "image, label = simple[0]\n",
        "feature_extractor = copy.deepcopy(model['model'])\n",
        "result = feature_extractor(image.unsqueeze(0)).cpu().detach().squeeze(0).numpy()\n",
        "print(f'Размерность выходов исходной модели: {result.shape}')\n",
        "setattr(feature_extractor, model['output_layer'], nn.Identity())\n",
        "result = feature_extractor(image.unsqueeze(0)).cpu().detach().squeeze(0).numpy()\n",
        "print(f'Размерность выходов модели после замены выходного классификатора на единичное преобразование: {result.shape}')"
      ]
    },
    {
      "cell_type": "markdown",
      "metadata": {
        "id": "yCOK948vRIEM"
      },
      "source": [
        "Попробуем визуализировать каким-либо образом пространство признаков, обозначая объекты целевых классов разными цветами. Общая гипотеза состоит в том, что  изображения разных классов должны лежать в разных областях пространства признаков (т.е. они выглядят как сосредоточенные \"облака\" точек, которые в свою очередь расположены на значительном удвлении друг от друга). В этом случае с помощью линейной гиперплоскости можно спроецировать точки в N-мерном пространстве признаков на эту плоскость и получить одно-, двух- или трехмерные проекции этих облаков, которые уже можно визуализировать на графике. Таким образом, для проверки гипотезы достаточно убедиться, что проекции \"облаков\" разных классов будут визуально изолированы. В этом случае перенастройка линейного классификатора на выходе нейронной сети приведет к решению задачи классификации на индивидуальной выборке объектов.\n",
        "\n",
        "Чтобы получить двухмерную проекцию точек пространства признаков воспользуемся методом редукции размерности на основе метода линейного PCA (Principial Component Analysis). Суть его состоит в отыскании такой линейной гиперплоскости в N-мерном пространстве, расстояние до которой всех точек будет минимальным (т.е. она максимально аппроксимирует данные). Координаты спроецированных точек в пространстве этой гиперповерхности как раз и являются искомым двухмерным представлением \"облаков\", характеризующих разные классы объектов выборки.\n",
        "\n",
        "Итак, первым делом преобразуем имеющиеся списки изображений в массивы признаков и лэйблов классов."
      ]
    },
    {
      "cell_type": "code",
      "execution_count": null,
      "metadata": {
        "id": "wZir8IVJV30J"
      },
      "outputs": [],
      "source": [
        "output = []\n",
        "for image, label in torch.utils.data.ConcatDataset([train, test]):\n",
        "    result = {'label': label, 'feature': feature_extractor(image.unsqueeze(0)).cpu().detach().squeeze(0).numpy()}\n",
        "    output.append(result)\n",
        "features = numpy.concatenate([numpy.expand_dims(record['feature'], 0) for record in output])\n",
        "labels = [record['label'] for i, record in enumerate(output)]"
      ]
    },
    {
      "cell_type": "markdown",
      "metadata": {
        "id": "xdDgVJE9eUAq"
      },
      "source": [
        "Далее применим PCA-метод, который на основе N-мерных массивов признаков вычислит координаты точек на гиперплоскости (U), список собственных чисел (S) и собственных векторов (V) для преобразования координат между основным и редуцированным пространством."
      ]
    },
    {
      "cell_type": "code",
      "execution_count": null,
      "metadata": {
        "id": "8HUb-z1zjw7M"
      },
      "outputs": [],
      "source": [
        "totalU, totalS, totalV = torch.pca_lowrank(torch.from_numpy(features), q=2)"
      ]
    },
    {
      "cell_type": "markdown",
      "metadata": {
        "id": "6IRWNDcTetCH"
      },
      "source": [
        "Для визуализации остается совершить трансформации осей массивов, чтобы получить ряды для координат абсцис и ординат графика, а также разделить массивы точек разных классов, чтобы каждому задать свой цвет."
      ]
    },
    {
      "cell_type": "code",
      "execution_count": null,
      "metadata": {
        "id": "FjzWMmxygS7h"
      },
      "outputs": [],
      "source": [
        "series = {}\n",
        "for key in ['коробка передач', 'ротор турбины']:\n",
        "    points = numpy.concatenate([numpy.expand_dims(totalU[i,:].cpu().detach().numpy(), 0)\n",
        "        for i, label in enumerate(labels) if train.classes[label] == key])\n",
        "    series[key] = numpy.moveaxis(points, 1, 0)\n",
        "\n",
        "plt.figure()\n",
        "plt.plot(series['коробка передач'][0], series['коробка передач'][1], 'ro', series['ротор турбины'][0], series['ротор турбины'][1], 'bo')\n",
        "plt.legend(['коробка передач', 'ротор турбины'])\n",
        "plt.show()"
      ]
    },
    {
      "cell_type": "markdown",
      "metadata": {
        "id": "CuFHdQOXe_hl"
      },
      "source": [
        "На графике выше видно, что на двухмерной проекции точки разных классов лежат в разных областях с небольшой погрешностью и могут быть разделены прямой. Это означает, что применение линейного классификатора в данном случае выглядит оправданным."
      ]
    },
    {
      "cell_type": "markdown",
      "metadata": {
        "id": "K6XckHJXiAfF"
      },
      "source": [
        "## Донастройка модели под специфическую задачу классификации"
      ]
    },
    {
      "cell_type": "markdown",
      "metadata": {
        "id": "9AT-EH3FiKYd"
      },
      "source": [
        "Донастройка происходит за счет переобучения выходных слоев глубинной нейронной сети, отвечающих за различие частных деталей разных классов (https://pytorch.org/tutorials/beginner/transfer_learning_tutorial.html).\n",
        "\n",
        "Мы будем использовать простейший классификатор - линейный, который играет роль гиперплоскости в N-мерном пространстве, разделющей пространство признаков на 2 части. Преимуществом такого классификатора является его простота, высокая скорость обучения, а также нужный результат даже при небольшом наборе данных (здесь действует эмпирическое правило: чем проще модель, тем меньше данных нужно для её обучения). Основной недостаток линейного классификатора - недостаточная сложность для случаев, когда классы визуально близки, отличаясь только нюансами. В таких ситуациях гиперплоскость является слишком простой моделью и необходимо использовать нелинейную гиперповерхность (нелинейный классификатор)."
      ]
    },
    {
      "cell_type": "markdown",
      "metadata": {
        "id": "qmTaxo-cpg8j"
      },
      "source": [
        "Так как мы не планируем менять коэффициенты предобученных слоев, первым делом необходимо отключить их перенастройку."
      ]
    },
    {
      "cell_type": "code",
      "execution_count": null,
      "metadata": {
        "id": "zNO8gfhA5R1e"
      },
      "outputs": [],
      "source": [
        "tunned_model = copy.deepcopy(model['model'])\n",
        "for param in tunned_model.parameters():\n",
        "    param.requires_grad = False"
      ]
    },
    {
      "cell_type": "markdown",
      "metadata": {
        "id": "NRbDTE_i5vdy"
      },
      "source": [
        "Затем добавим новый слой-классификатор на выходе"
      ]
    },
    {
      "cell_type": "code",
      "execution_count": null,
      "metadata": {
        "id": "O7Md1LcC_Q0L"
      },
      "outputs": [],
      "source": [
        "print(tunned_model)"
      ]
    },
    {
      "cell_type": "code",
      "execution_count": null,
      "metadata": {
        "id": "eaKOdEMujm1J"
      },
      "outputs": [],
      "source": [
        "print(getattr(tunned_model, model['output_layer']))"
      ]
    },
    {
      "cell_type": "code",
      "execution_count": null,
      "metadata": {
        "id": "GBPk2s_a5vKJ"
      },
      "outputs": [],
      "source": [
        "in_features = model['in_features'](tunned_model)\n",
        "print(in_features)"
      ]
    },
    {
      "cell_type": "markdown",
      "metadata": {
        "id": "FdrQn3T4TC5w"
      },
      "source": [
        "Теперь добавим линейный классификатор с нужным числом входов и двумя выходами. Выход классификатора пропустим через Softmax слой, чтобы получить на вызоде нормированный сигнал из диапазона [0;1]."
      ]
    },
    {
      "cell_type": "code",
      "execution_count": null,
      "metadata": {
        "id": "QTGgnr2NTBzu"
      },
      "outputs": [],
      "source": [
        "setattr(tunned_model, model['output_layer'], torch.nn.Sequential(torch.nn.Linear(in_features, 2), torch.nn.Softmax(dim=1)))"
      ]
    },
    {
      "cell_type": "code",
      "execution_count": null,
      "metadata": {
        "id": "NBsdBXP7Fy2N"
      },
      "outputs": [],
      "source": [
        "print(tunned_model)"
      ]
    },
    {
      "cell_type": "code",
      "execution_count": null,
      "metadata": {
        "id": "FPBDbY4CLEJ5"
      },
      "outputs": [],
      "source": [
        "print(f\"num of adjustable parameters = {sum(i.numel() for i in getattr(tunned_model, model['output_layer']).parameters())}\")"
      ]
    },
    {
      "cell_type": "markdown",
      "metadata": {
        "id": "P_pzoYxIiTq_"
      },
      "source": [
        "Для запуска процесса обучения необходим вспомогательный класс-обертка Dataloader, который позволяет объединять и разбивать наборы данных, заданные с помощью Dataset на фрагменты. Это необходимо, например, для параллелизации процесса настройки в ансамблях моделей, когда выборка разбивается на подвыборки и настройка происходит в  независимых процессах."
      ]
    },
    {
      "cell_type": "code",
      "execution_count": null,
      "metadata": {
        "id": "vrdnQ17hlKzm"
      },
      "outputs": [],
      "source": [
        "dataloader = [\n",
        "    {\n",
        "        'train': True,\n",
        "        'loader': DataLoader(train, batch_size=1, shuffle=True, num_workers=0)\n",
        "    },\n",
        "    {\n",
        "        'train': False,\n",
        "        'loader': DataLoader(test, batch_size=1, shuffle=True, num_workers=0)\n",
        "    }\n",
        "]"
      ]
    },
    {
      "cell_type": "markdown",
      "metadata": {
        "id": "SoigivsTUaOr"
      },
      "source": [
        "Создадим критерий, оптимизатор и динамически изменяемый коэффициент усиления процесса обучения."
      ]
    },
    {
      "cell_type": "code",
      "execution_count": null,
      "metadata": {
        "id": "Vjy4Wnj2Ui9b"
      },
      "outputs": [],
      "source": [
        "tunned_model.to(device)\n",
        "critery = torch.nn.CrossEntropyLoss()\n",
        "optimizer = torch.optim.SGD(getattr(tunned_model, model['output_layer']).parameters(), lr=0.001, momentum=0.9)\n",
        "lr_scheduler = torch.optim.lr_scheduler.StepLR(optimizer, step_size=5, gamma=0.5,verbose=True)"
      ]
    },
    {
      "cell_type": "code",
      "execution_count": null,
      "metadata": {
        "id": "fMmM-qUkD5Xj"
      },
      "outputs": [],
      "source": [
        "print(tunned_model)"
      ]
    },
    {
      "cell_type": "markdown",
      "metadata": {
        "id": "-54fzZ7HYD3F"
      },
      "source": [
        "Наконец, проведем перенастройку"
      ]
    },
    {
      "cell_type": "code",
      "execution_count": null,
      "metadata": {
        "id": "nf_0MQe6YIOz"
      },
      "outputs": [],
      "source": [
        "model_conv, process = train_model(model=tunned_model, dataloader=dataloader, device=device,\n",
        "                         critery=critery, optimizer=optimizer, scheduler=lr_scheduler,\n",
        "                         num_epochs=9)"
      ]
    },
    {
      "cell_type": "code",
      "execution_count": null,
      "metadata": {
        "id": "_uVn-aaAAr7N"
      },
      "outputs": [],
      "source": [
        "fig, axs = plt.subplots(2,2, figsize=(16,10), sharex=True)\n",
        "axs[0,0].plot(process['train']['loss'])\n",
        "axs[0,0].title.set_text('Эволюции ошибки на выборке для обучения')\n",
        "axs[0,1].plot(process['train']['accuracy'])\n",
        "axs[0,1].title.set_text('Эволюции ошибки на выборке для обучения')\n",
        "axs[1,0].plot(process['validate']['loss'])\n",
        "axs[1,0].title.set_text('Эволюции ошибки на выборке для проверки')\n",
        "axs[1,1].plot(process['validate']['accuracy'])\n",
        "axs[1,1].title.set_text('Эволюции ошибки на выборке для проверки')\n",
        "axs[1,0].set_xlabel('Итерация обучения')\n",
        "axs[1,1].set_xlabel('Итерация обучения')\n",
        "axs[0,0].set_ylabel('Значение ошибки')\n",
        "axs[1,0].set_ylabel('Значение ошибки')"
      ]
    },
    {
      "cell_type": "markdown",
      "metadata": {
        "id": "6LZqm1WfdaXx"
      },
      "source": [
        "Выведем результат после обучения"
      ]
    },
    {
      "cell_type": "code",
      "execution_count": null,
      "metadata": {
        "id": "yyhNcWUcMz3-"
      },
      "outputs": [],
      "source": [
        "print('-'*30  + ' Train dataset ' + '-'*30)\n",
        "classify(train, denormalize(train, transform), num_per_row=num_per_row, single_size=single_size, vspace=vspace,\n",
        "            labels = train.classes, model=tunned_model, model_labels=train.classes, debug=True  )\n",
        "print('-'*30  + ' Test dataset ' + '-'*30)\n",
        "classify(test, denormalize(test, transform), num_per_row=num_per_row, single_size=single_size, vspace=vspace,\n",
        "            labels = test.classes, model=tunned_model, model_labels=test.classes)"
      ]
    },
    {
      "cell_type": "markdown",
      "metadata": {
        "id": "XGVPsEdlK4bY"
      },
      "source": [
        "После обучения модель SwinT все изображения распознала правильно, соответственно, точность распознавания изображений - 100%, в отличие от базовой преднастроенной модели, где точность была 0%. Степень уверенности в тренировочной и тестовой выборке по большей части составляет 73%."
      ]
    }
  ],
  "metadata": {
    "colab": {
      "provenance": [],
      "gpuType": "T4"
    },
    "kernelspec": {
      "display_name": "Python 3",
      "name": "python3"
    },
    "language_info": {
      "name": "python"
    },
    "accelerator": "GPU"
  },
  "nbformat": 4,
  "nbformat_minor": 0
}